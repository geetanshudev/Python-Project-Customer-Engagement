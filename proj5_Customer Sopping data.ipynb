{
 "cells": [
  {
   "cell_type": "code",
   "execution_count": 1,
   "id": "fe4846ee",
   "metadata": {},
   "outputs": [],
   "source": [
    "import numpy as np\n",
    "import pandas as pd\n",
    "import matplotlib.pyplot as plt\n",
    "import seaborn as sns\n",
    "from sklearn.metrics import accuracy_score"
   ]
  },
  {
   "cell_type": "code",
   "execution_count": 2,
   "id": "627388f6",
   "metadata": {},
   "outputs": [
    {
     "name": "stdout",
     "output_type": "stream",
     "text": [
      "Index(['invoice_no', 'customer_id', 'gender', 'age', 'category', 'quantity',\n",
      "       'price', 'payment_method', 'invoice_date', 'shopping_mall'],\n",
      "      dtype='object')\n"
     ]
    }
   ],
   "source": [
    "cust = pd.read_csv(\"D:\\\\fifth semester\\\\project MPIT\\\\projrct csv\\\\best dataset\\\\customer_shopping_data.csv\")\n",
    "print(cust.columns)"
   ]
  },
  {
   "cell_type": "code",
   "execution_count": 3,
   "id": "ba16e332",
   "metadata": {},
   "outputs": [
    {
     "data": {
      "text/html": [
       "<div>\n",
       "<style scoped>\n",
       "    .dataframe tbody tr th:only-of-type {\n",
       "        vertical-align: middle;\n",
       "    }\n",
       "\n",
       "    .dataframe tbody tr th {\n",
       "        vertical-align: top;\n",
       "    }\n",
       "\n",
       "    .dataframe thead th {\n",
       "        text-align: right;\n",
       "    }\n",
       "</style>\n",
       "<table border=\"1\" class=\"dataframe\">\n",
       "  <thead>\n",
       "    <tr style=\"text-align: right;\">\n",
       "      <th></th>\n",
       "      <th>invoice_no</th>\n",
       "      <th>customer_id</th>\n",
       "      <th>gender</th>\n",
       "      <th>age</th>\n",
       "      <th>category</th>\n",
       "      <th>quantity</th>\n",
       "      <th>price</th>\n",
       "      <th>payment_method</th>\n",
       "      <th>invoice_date</th>\n",
       "      <th>shopping_mall</th>\n",
       "    </tr>\n",
       "  </thead>\n",
       "  <tbody>\n",
       "    <tr>\n",
       "      <th>0</th>\n",
       "      <td>I138884</td>\n",
       "      <td>C241288</td>\n",
       "      <td>Female</td>\n",
       "      <td>28</td>\n",
       "      <td>Clothing</td>\n",
       "      <td>5</td>\n",
       "      <td>1500.40</td>\n",
       "      <td>Credit Card</td>\n",
       "      <td>5/8/2022</td>\n",
       "      <td>Kanyon</td>\n",
       "    </tr>\n",
       "    <tr>\n",
       "      <th>1</th>\n",
       "      <td>I317333</td>\n",
       "      <td>C111565</td>\n",
       "      <td>Male</td>\n",
       "      <td>21</td>\n",
       "      <td>Shoes</td>\n",
       "      <td>3</td>\n",
       "      <td>1800.51</td>\n",
       "      <td>Debit Card</td>\n",
       "      <td>12/12/2021</td>\n",
       "      <td>Forum Istanbul</td>\n",
       "    </tr>\n",
       "    <tr>\n",
       "      <th>2</th>\n",
       "      <td>I127801</td>\n",
       "      <td>C266599</td>\n",
       "      <td>Male</td>\n",
       "      <td>20</td>\n",
       "      <td>Clothing</td>\n",
       "      <td>1</td>\n",
       "      <td>300.08</td>\n",
       "      <td>Cash</td>\n",
       "      <td>9/11/2021</td>\n",
       "      <td>Metrocity</td>\n",
       "    </tr>\n",
       "    <tr>\n",
       "      <th>3</th>\n",
       "      <td>I173702</td>\n",
       "      <td>C988172</td>\n",
       "      <td>Female</td>\n",
       "      <td>66</td>\n",
       "      <td>Shoes</td>\n",
       "      <td>5</td>\n",
       "      <td>3000.85</td>\n",
       "      <td>Credit Card</td>\n",
       "      <td>16/05/2021</td>\n",
       "      <td>Metropol AVM</td>\n",
       "    </tr>\n",
       "    <tr>\n",
       "      <th>4</th>\n",
       "      <td>I337046</td>\n",
       "      <td>C189076</td>\n",
       "      <td>Female</td>\n",
       "      <td>53</td>\n",
       "      <td>Books</td>\n",
       "      <td>4</td>\n",
       "      <td>60.60</td>\n",
       "      <td>Cash</td>\n",
       "      <td>24/10/2021</td>\n",
       "      <td>Kanyon</td>\n",
       "    </tr>\n",
       "  </tbody>\n",
       "</table>\n",
       "</div>"
      ],
      "text/plain": [
       "  invoice_no customer_id  gender  age  category  quantity    price  \\\n",
       "0    I138884     C241288  Female   28  Clothing         5  1500.40   \n",
       "1    I317333     C111565    Male   21     Shoes         3  1800.51   \n",
       "2    I127801     C266599    Male   20  Clothing         1   300.08   \n",
       "3    I173702     C988172  Female   66     Shoes         5  3000.85   \n",
       "4    I337046     C189076  Female   53     Books         4    60.60   \n",
       "\n",
       "  payment_method invoice_date   shopping_mall  \n",
       "0    Credit Card     5/8/2022          Kanyon  \n",
       "1     Debit Card   12/12/2021  Forum Istanbul  \n",
       "2           Cash    9/11/2021       Metrocity  \n",
       "3    Credit Card   16/05/2021    Metropol AVM  \n",
       "4           Cash   24/10/2021          Kanyon  "
      ]
     },
     "execution_count": 3,
     "metadata": {},
     "output_type": "execute_result"
    }
   ],
   "source": [
    "cust.head()"
   ]
  },
  {
   "cell_type": "code",
   "execution_count": 4,
   "id": "9095cf0d",
   "metadata": {},
   "outputs": [
    {
     "data": {
      "text/plain": [
       "(99457, 10)"
      ]
     },
     "execution_count": 4,
     "metadata": {},
     "output_type": "execute_result"
    }
   ],
   "source": [
    "cust.shape"
   ]
  },
  {
   "cell_type": "code",
   "execution_count": 5,
   "id": "7ce96f8e",
   "metadata": {},
   "outputs": [
    {
     "data": {
      "text/plain": [
       "invoice_no        0\n",
       "customer_id       0\n",
       "gender            0\n",
       "age               0\n",
       "category          0\n",
       "quantity          0\n",
       "price             0\n",
       "payment_method    0\n",
       "invoice_date      0\n",
       "shopping_mall     0\n",
       "dtype: int64"
      ]
     },
     "execution_count": 5,
     "metadata": {},
     "output_type": "execute_result"
    }
   ],
   "source": [
    "cust.isnull().sum()"
   ]
  },
  {
   "cell_type": "code",
   "execution_count": 6,
   "id": "7b7b8333",
   "metadata": {},
   "outputs": [
    {
     "data": {
      "image/png": "[encoded data removed]",
      "text/plain": [
       "<Figure size 432x288 with 1 Axes>"
      ]
     },
     "metadata": {
      "needs_background": "light"
     },
     "output_type": "display_data"
    }
   ],
   "source": [
    "gender = cust[\"gender\"].value_counts()\n",
    "plt.bar(gender.index,gender)\n",
    "plt.show()"
   ]
  },
  {
   "cell_type": "code",
   "execution_count": 7,
   "id": "e690f665",
   "metadata": {},
   "outputs": [
    {
     "data": {
      "image/png": "[encoded data removed]",
      "text/plain": [
       "<Figure size 360x360 with 1 Axes>"
      ]
     },
     "metadata": {
      "needs_background": "light"
     },
     "output_type": "display_data"
    }
   ],
   "source": [
    "age = cust['age']\n",
    "sns.displot(age,kde = False)\n",
    "plt.show()"
   ]
  },
  {
   "cell_type": "code",
   "execution_count": 8,
   "id": "901243d9",
   "metadata": {},
   "outputs": [
    {
     "data": {
      "image/png": "[encoded data removed]",
      "text/plain": [
       "<Figure size 432x288 with 1 Axes>"
      ]
     },
     "metadata": {
      "needs_background": "light"
     },
     "output_type": "display_data"
    }
   ],
   "source": [
    "cat = cust[\"category\"].value_counts()\n",
    "plt.bar(cat.index,cat)\n",
    "plt.xticks(rotation = 90)\n",
    "plt.show()"
   ]
  },
  {
   "cell_type": "code",
   "execution_count": 9,
   "id": "e49074d4",
   "metadata": {},
   "outputs": [
    {
     "data": {
      "text/html": [
       "<div>\n",
       "<style scoped>\n",
       "    .dataframe tbody tr th:only-of-type {\n",
       "        vertical-align: middle;\n",
       "    }\n",
       "\n",
       "    .dataframe tbody tr th {\n",
       "        vertical-align: top;\n",
       "    }\n",
       "\n",
       "    .dataframe thead th {\n",
       "        text-align: right;\n",
       "    }\n",
       "</style>\n",
       "<table border=\"1\" class=\"dataframe\">\n",
       "  <thead>\n",
       "    <tr style=\"text-align: right;\">\n",
       "      <th></th>\n",
       "      <th>cash_meth</th>\n",
       "      <th>numbers</th>\n",
       "    </tr>\n",
       "  </thead>\n",
       "  <tbody>\n",
       "    <tr>\n",
       "      <th>Cash</th>\n",
       "      <td>Cash</td>\n",
       "      <td>44447</td>\n",
       "    </tr>\n",
       "    <tr>\n",
       "      <th>Credit Card</th>\n",
       "      <td>Credit Card</td>\n",
       "      <td>34931</td>\n",
       "    </tr>\n",
       "    <tr>\n",
       "      <th>Debit Card</th>\n",
       "      <td>Debit Card</td>\n",
       "      <td>20079</td>\n",
       "    </tr>\n",
       "  </tbody>\n",
       "</table>\n",
       "</div>"
      ],
      "text/plain": [
       "               cash_meth  numbers\n",
       "Cash                Cash    44447\n",
       "Credit Card  Credit Card    34931\n",
       "Debit Card    Debit Card    20079"
      ]
     },
     "execution_count": 9,
     "metadata": {},
     "output_type": "execute_result"
    }
   ],
   "source": [
    "cash = cust['payment_method'].value_counts()\n",
    "cashi = cash.index\n",
    "dats = pd.DataFrame({'cash_meth':cashi,'numbers':cash})\n",
    "dats\n"
   ]
  },
  {
   "cell_type": "code",
   "execution_count": 10,
   "id": "3b6c3ca3",
   "metadata": {},
   "outputs": [
    {
     "data": {
      "image/png": "[encoded data removed]",
      "text/plain": [
       "<Figure size 432x288 with 1 Axes>"
      ]
     },
     "metadata": {
      "needs_background": "light"
     },
     "output_type": "display_data"
    }
   ],
   "source": [
    "plt.bar(cash.index,cash)\n",
    "plt.show()"
   ]
  },
  {
   "cell_type": "code",
   "execution_count": 11,
   "id": "190fbcc8",
   "metadata": {},
   "outputs": [
    {
     "data": {
      "text/html": [
       "<div>\n",
       "<style scoped>\n",
       "    .dataframe tbody tr th:only-of-type {\n",
       "        vertical-align: middle;\n",
       "    }\n",
       "\n",
       "    .dataframe tbody tr th {\n",
       "        vertical-align: top;\n",
       "    }\n",
       "\n",
       "    .dataframe thead th {\n",
       "        text-align: right;\n",
       "    }\n",
       "</style>\n",
       "<table border=\"1\" class=\"dataframe\">\n",
       "  <thead>\n",
       "    <tr style=\"text-align: right;\">\n",
       "      <th></th>\n",
       "      <th></th>\n",
       "      <th>category</th>\n",
       "    </tr>\n",
       "    <tr>\n",
       "      <th>gender</th>\n",
       "      <th>category</th>\n",
       "      <th></th>\n",
       "    </tr>\n",
       "  </thead>\n",
       "  <tbody>\n",
       "    <tr>\n",
       "      <th rowspan=\"8\" valign=\"top\">Female</th>\n",
       "      <th>Clothing</th>\n",
       "      <td>20652</td>\n",
       "    </tr>\n",
       "    <tr>\n",
       "      <th>Cosmetics</th>\n",
       "      <td>9070</td>\n",
       "    </tr>\n",
       "    <tr>\n",
       "      <th>Food &amp; Beverage</th>\n",
       "      <td>8804</td>\n",
       "    </tr>\n",
       "    <tr>\n",
       "      <th>Toys</th>\n",
       "      <td>6085</td>\n",
       "    </tr>\n",
       "    <tr>\n",
       "      <th>Shoes</th>\n",
       "      <td>5967</td>\n",
       "    </tr>\n",
       "    <tr>\n",
       "      <th>Souvenir</th>\n",
       "      <td>3017</td>\n",
       "    </tr>\n",
       "    <tr>\n",
       "      <th>Technology</th>\n",
       "      <td>2981</td>\n",
       "    </tr>\n",
       "    <tr>\n",
       "      <th>Books</th>\n",
       "      <td>2906</td>\n",
       "    </tr>\n",
       "    <tr>\n",
       "      <th rowspan=\"8\" valign=\"top\">Male</th>\n",
       "      <th>Clothing</th>\n",
       "      <td>13835</td>\n",
       "    </tr>\n",
       "    <tr>\n",
       "      <th>Cosmetics</th>\n",
       "      <td>6027</td>\n",
       "    </tr>\n",
       "    <tr>\n",
       "      <th>Food &amp; Beverage</th>\n",
       "      <td>5972</td>\n",
       "    </tr>\n",
       "    <tr>\n",
       "      <th>Shoes</th>\n",
       "      <td>4067</td>\n",
       "    </tr>\n",
       "    <tr>\n",
       "      <th>Toys</th>\n",
       "      <td>4002</td>\n",
       "    </tr>\n",
       "    <tr>\n",
       "      <th>Books</th>\n",
       "      <td>2075</td>\n",
       "    </tr>\n",
       "    <tr>\n",
       "      <th>Technology</th>\n",
       "      <td>2015</td>\n",
       "    </tr>\n",
       "    <tr>\n",
       "      <th>Souvenir</th>\n",
       "      <td>1982</td>\n",
       "    </tr>\n",
       "  </tbody>\n",
       "</table>\n",
       "</div>"
      ],
      "text/plain": [
       "                        category\n",
       "gender category                 \n",
       "Female Clothing            20652\n",
       "       Cosmetics            9070\n",
       "       Food & Beverage      8804\n",
       "       Toys                 6085\n",
       "       Shoes                5967\n",
       "       Souvenir             3017\n",
       "       Technology           2981\n",
       "       Books                2906\n",
       "Male   Clothing            13835\n",
       "       Cosmetics            6027\n",
       "       Food & Beverage      5972\n",
       "       Shoes                4067\n",
       "       Toys                 4002\n",
       "       Books                2075\n",
       "       Technology           2015\n",
       "       Souvenir             1982"
      ]
     },
     "execution_count": 11,
     "metadata": {},
     "output_type": "execute_result"
    }
   ],
   "source": [
    "gh = cust.groupby([\"gender\"])['category'].value_counts()\n",
    "datag = pd.DataFrame(gh)\n",
    "datag"
   ]
  },
  {
   "cell_type": "code",
   "execution_count": 12,
   "id": "1faa3f09",
   "metadata": {},
   "outputs": [
    {
     "data": {
      "image/png": "[encoded data removed]",
      "text/plain": [
       "<Figure size 432x288 with 1 Axes>"
      ]
     },
     "metadata": {
      "needs_background": "light"
     },
     "output_type": "display_data"
    }
   ],
   "source": [
    "x = cust['category'].value_counts()\n",
    "y = x.index\n",
    "sns.barplot(x = x,y = y ,data = cust)\n",
    "plt.show()"
   ]
  },
  {
   "cell_type": "code",
   "execution_count": 13,
   "id": "c1f22bac",
   "metadata": {},
   "outputs": [
    {
     "data": {
      "text/plain": [
       "Index(['invoice_no', 'customer_id', 'gender', 'age', 'category', 'quantity',\n",
       "       'price', 'payment_method', 'invoice_date', 'shopping_mall'],\n",
       "      dtype='object')"
      ]
     },
     "execution_count": 13,
     "metadata": {},
     "output_type": "execute_result"
    }
   ],
   "source": [
    "cust.columns"
   ]
  },
  {
   "cell_type": "code",
   "execution_count": 14,
   "id": "51657891",
   "metadata": {},
   "outputs": [],
   "source": [
    "datav = cust[['category','quantity','payment_method','gender']]"
   ]
  },
  {
   "cell_type": "code",
   "execution_count": 15,
   "id": "03edb147",
   "metadata": {},
   "outputs": [
    {
     "name": "stdout",
     "output_type": "stream",
     "text": [
      "   category  quantity payment_method  gender\n",
      "0  Clothing         5    Credit Card  Female\n",
      "1     Shoes         3     Debit Card    Male\n",
      "2  Clothing         1           Cash    Male\n",
      "3     Shoes         5    Credit Card  Female\n",
      "4     Books         4           Cash  Female\n"
     ]
    }
   ],
   "source": [
    "print(datav.head())"
   ]
  },
  {
   "cell_type": "code",
   "execution_count": 16,
   "id": "aab4737e",
   "metadata": {},
   "outputs": [
    {
     "name": "stdout",
     "output_type": "stream",
     "text": [
      "   quantity  category_Books  category_Clothing  category_Cosmetics  \\\n",
      "0         5               0                  1                   0   \n",
      "1         3               0                  0                   0   \n",
      "2         1               0                  1                   0   \n",
      "3         5               0                  0                   0   \n",
      "4         4               1                  0                   0   \n",
      "\n",
      "   category_Food & Beverage  category_Shoes  category_Souvenir  \\\n",
      "0                         0               0                  0   \n",
      "1                         0               1                  0   \n",
      "2                         0               0                  0   \n",
      "3                         0               1                  0   \n",
      "4                         0               0                  0   \n",
      "\n",
      "   category_Technology  category_Toys  payment_method_Cash  \\\n",
      "0                    0              0                    0   \n",
      "1                    0              0                    0   \n",
      "2                    0              0                    1   \n",
      "3                    0              0                    0   \n",
      "4                    0              0                    1   \n",
      "\n",
      "   payment_method_Credit Card  payment_method_Debit Card  \n",
      "0                           1                          0  \n",
      "1                           0                          1  \n",
      "2                           0                          0  \n",
      "3                           1                          0  \n",
      "4                           0                          0  \n",
      "0    Female\n",
      "1      Male\n",
      "2      Male\n",
      "3    Female\n",
      "4    Female\n",
      "Name: gender, dtype: object\n"
     ]
    }
   ],
   "source": [
    "datax = datav.iloc[:,0:3]\n",
    "datay = datav.iloc[:,-1]\n",
    "datax = pd.get_dummies(datax)\n",
    "print(datax.head())\n",
    "print(datay.head())"
   ]
  },
  {
   "cell_type": "markdown",
   "id": "79a17b31",
   "metadata": {},
   "source": [
    "# Test Train Split"
   ]
  },
  {
   "cell_type": "code",
   "execution_count": 17,
   "id": "65469985",
   "metadata": {},
   "outputs": [],
   "source": [
    "from sklearn.model_selection import train_test_split\n",
    "xtrain,xtest,ytrain,ytest = train_test_split(datax,datay,test_size = 0.3)"
   ]
  },
  {
   "cell_type": "code",
   "execution_count": 18,
   "id": "c510fe71",
   "metadata": {},
   "outputs": [
    {
     "name": "stdout",
     "output_type": "stream",
     "text": [
      "(69619, 12)\n",
      "(69619,)\n",
      "(29838, 12)\n",
      "(29838,)\n"
     ]
    }
   ],
   "source": [
    "print(xtrain.shape)\n",
    "print(ytrain.shape)\n",
    "print(xtest.shape)\n",
    "print(ytest.shape)"
   ]
  },
  {
   "cell_type": "markdown",
   "id": "14d06cb2",
   "metadata": {},
   "source": [
    "# Naive Bayes\n"
   ]
  },
  {
   "cell_type": "code",
   "execution_count": 19,
   "id": "2deff5d9",
   "metadata": {},
   "outputs": [
    {
     "data": {
      "text/plain": [
       "GaussianNB()"
      ]
     },
     "execution_count": 19,
     "metadata": {},
     "output_type": "execute_result"
    }
   ],
   "source": [
    "from sklearn.naive_bayes import GaussianNB\n",
    "modelgb = GaussianNB()\n",
    "modelgb.fit(xtrain,ytrain)\n"
   ]
  },
  {
   "cell_type": "code",
   "execution_count": 20,
   "id": "ca1953ea",
   "metadata": {},
   "outputs": [
    {
     "name": "stdout",
     "output_type": "stream",
     "text": [
      "82914    Female\n",
      "7508     Female\n",
      "87826    Female\n",
      "22414      Male\n",
      "58678    Female\n",
      "Name: gender, dtype: object\n",
      "['Female' 'Female' 'Female' 'Female' 'Female']\n"
     ]
    }
   ],
   "source": [
    "ypredict1 = modelgb.predict(xtest)\n",
    "print(ytest.head())\n",
    "print(ypredict1[0:5])"
   ]
  },
  {
   "cell_type": "code",
   "execution_count": 21,
   "id": "a5e268bd",
   "metadata": {},
   "outputs": [
    {
     "name": "stdout",
     "output_type": "stream",
     "text": [
      "0.5884107513908439\n"
     ]
    }
   ],
   "source": [
    "\n",
    "accgb = accuracy_score(ytest,ypredict1)\n",
    "print(accgb)"
   ]
  },
  {
   "cell_type": "markdown",
   "id": "49afb8f8",
   "metadata": {},
   "source": [
    "# Decision Tree classification"
   ]
  },
  {
   "cell_type": "code",
   "execution_count": 22,
   "id": "eb4cc6de",
   "metadata": {},
   "outputs": [
    {
     "data": {
      "text/plain": [
       "DecisionTreeClassifier()"
      ]
     },
     "execution_count": 22,
     "metadata": {},
     "output_type": "execute_result"
    }
   ],
   "source": [
    "from sklearn.tree import DecisionTreeClassifier\n",
    "modelDTC = DecisionTreeClassifier()\n",
    "modelDTC.fit(xtrain,ytrain)\n"
   ]
  },
  {
   "cell_type": "code",
   "execution_count": 23,
   "id": "2fc61f58",
   "metadata": {},
   "outputs": [
    {
     "name": "stdout",
     "output_type": "stream",
     "text": [
      "82914    Female\n",
      "7508     Female\n",
      "87826    Female\n",
      "22414      Male\n",
      "58678    Female\n",
      "Name: gender, dtype: object\n",
      "['Female' 'Female' 'Female' 'Female' 'Female']\n"
     ]
    }
   ],
   "source": [
    "ypredict2 = modelDTC.predict(xtest)\n",
    "print(ytest.head())\n",
    "print(ypredict2[0:5])"
   ]
  },
  {
   "cell_type": "code",
   "execution_count": 24,
   "id": "e61852a9",
   "metadata": {},
   "outputs": [
    {
     "name": "stdout",
     "output_type": "stream",
     "text": [
      "0.5981299014679268\n"
     ]
    }
   ],
   "source": [
    "accDT = accuracy_score(ypredict2,ytest)\n",
    "print(accDT)"
   ]
  },
  {
   "cell_type": "markdown",
   "id": "0759a19a",
   "metadata": {},
   "source": [
    "# Random Forest"
   ]
  },
  {
   "cell_type": "code",
   "execution_count": 25,
   "id": "67c108cf",
   "metadata": {},
   "outputs": [
    {
     "data": {
      "text/plain": [
       "RandomForestClassifier()"
      ]
     },
     "execution_count": 25,
     "metadata": {},
     "output_type": "execute_result"
    }
   ],
   "source": [
    "from sklearn.ensemble import RandomForestClassifier\n",
    "modelRf = RandomForestClassifier()\n",
    "modelRf.fit(xtrain,ytrain)\n"
   ]
  },
  {
   "cell_type": "code",
   "execution_count": 26,
   "id": "aa0ff83f",
   "metadata": {},
   "outputs": [
    {
     "name": "stdout",
     "output_type": "stream",
     "text": [
      "82914    Female\n",
      "7508     Female\n",
      "87826    Female\n",
      "22414      Male\n",
      "58678    Female\n",
      "          ...  \n",
      "58104    Female\n",
      "66088    Female\n",
      "48899    Female\n",
      "90646    Female\n",
      "93152    Female\n",
      "Name: gender, Length: 29838, dtype: object\n",
      "['Female' 'Female' 'Female' ... 'Female' 'Female' 'Female']\n"
     ]
    }
   ],
   "source": [
    "ypredict3 = modelRf.predict(xtest)\n",
    "print(ytest)\n",
    "print(ypredict3)"
   ]
  },
  {
   "cell_type": "code",
   "execution_count": 27,
   "id": "c102a962",
   "metadata": {},
   "outputs": [
    {
     "name": "stdout",
     "output_type": "stream",
     "text": [
      "0.5981299014679268\n"
     ]
    }
   ],
   "source": [
    "accRfc = accuracy_score(ypredict3,ytest)\n",
    "print(accRfc)"
   ]
  },
  {
   "cell_type": "markdown",
   "id": "61992d5c",
   "metadata": {},
   "source": [
    "# SVC\n"
   ]
  },
  {
   "cell_type": "code",
   "execution_count": null,
   "id": "ec527a1c",
   "metadata": {},
   "outputs": [],
   "source": [
    "from sklearn.svm import SVC\n",
    "modelsvm = SVC(kernel='rbf',random_state=0)\n",
    "modelsvm.fit(xtrain,ytrain)\n",
    "ypredict4 = modelsvm.predict(xtest)\n",
    "print(ytest.head())\n",
    "print(ypredict4[0:5])"
   ]
  },
  {
   "cell_type": "code",
   "execution_count": null,
   "id": "759585c6",
   "metadata": {},
   "outputs": [],
   "source": [
    "accsvc = accuracy_score(ypredict4,ytest)\n",
    "print(accsvc)"
   ]
  },
  {
   "cell_type": "code",
   "execution_count": 130,
   "id": "659de4eb",
   "metadata": {},
   "outputs": [
    {
     "name": "stdout",
     "output_type": "stream",
     "text": [
      "34541      Male\n",
      "40359    Female\n",
      "77759    Female\n",
      "7377     Female\n",
      "52906      Male\n",
      "Name: gender, dtype: object\n",
      "['Male' 'Male' 'Female' 'Male' 'Female']\n",
      "0.5198404718814934\n"
     ]
    }
   ],
   "source": [
    "from sklearn.neighbors import KNeighborsClassifier\n",
    "modelknn = KNeighborsClassifier(n_neighbors=5)\n",
    "modelknn.fit(xtrain,ytrain)\n",
    "ypredict5 = modelknn.predict(xtest)\n",
    "print(ytest.head())\n",
    "print(ypredict5[0:5])\n",
    "acckn = accuracy_score(ypredict5,ytest)\n",
    "print(acckn)"
   ]
  },
  {
   "cell_type": "code",
   "execution_count": 131,
   "id": "7e16d2a7",
   "metadata": {},
   "outputs": [
    {
     "name": "stdout",
     "output_type": "stream",
     "text": [
      "           Model  Accuracy score\n",
      "1  Decision Tree        0.601347\n",
      "2  Random Forest        0.601347\n",
      "3            SVC        0.601347\n",
      "0    Naive Bayes        0.592768\n"
     ]
    }
   ],
   "source": [
    "datavb = pd.DataFrame({\n",
    "    \"Model\":[\"Naive Bayes\",\"Decision Tree\",\"Random Forest\",\"SVC\"],\n",
    "    \"Accuracy score\":[accgb,accDT,accRfc,accsvc]\n",
    "})\n",
    "datavb = datavb.sort_values(by = \"Accuracy score\",ascending=False)\n",
    "print(datavb)"
   ]
  },
  {
   "cell_type": "code",
   "execution_count": null,
   "id": "19c468f0",
   "metadata": {},
   "outputs": [],
   "source": []
  }
 ],
 "metadata": {
  "kernelspec": {
   "display_name": "Python 3 (ipykernel)",
   "language": "python",
   "name": "python3"
  },
  "language_info": {
   "codemirror_mode": {
    "name": "ipython",
    "version": 3
   },
   "file_extension": ".py",
   "mimetype": "text/x-python",
   "name": "python",
   "nbconvert_exporter": "python",
   "pygments_lexer": "ipython3",
   "version": "3.9.12"
  }
 },
 "nbformat": 4,
 "nbformat_minor": 5
}
