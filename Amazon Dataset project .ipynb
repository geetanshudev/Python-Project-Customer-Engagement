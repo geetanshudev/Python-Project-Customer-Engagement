{
 "cells": [
  {
   "cell_type": "code",
   "execution_count": 1,
   "id": "00cb5fb0",
   "metadata": {},
   "outputs": [],
   "source": [
    "import numpy as np\n",
    "import pandas as pd \n",
    "import matplotlib.pyplot as plt\n",
    "import seaborn as sb"
   ]
  },
  {
   "cell_type": "code",
   "execution_count": 2,
   "id": "d4982915",
   "metadata": {},
   "outputs": [],
   "source": [
    "amazon = pd.read_csv(\"D:\\\\fifth semester\\\\project MPIT\\\\projrct csv\\\\archive\\\\amazon.csv\")"
   ]
  },
  {
   "cell_type": "code",
   "execution_count": 3,
   "id": "6211aad3",
   "metadata": {},
   "outputs": [
    {
     "data": {
      "text/plain": [
       "Index(['product_id', 'product_name', 'category', 'discounted_price',\n",
       "       'actual_price', 'discount_percentage', 'rating', 'rating_count',\n",
       "       'about_product', 'user_id', 'user_name', 'review_id', 'review_title',\n",
       "       'review_content', 'img_link', 'product_link'],\n",
       "      dtype='object')"
      ]
     },
     "execution_count": 3,
     "metadata": {},
     "output_type": "execute_result"
    }
   ],
   "source": [
    "amazon.columns"
   ]
  },
  {
   "cell_type": "code",
   "execution_count": 4,
   "id": "d118ee9a",
   "metadata": {},
   "outputs": [
    {
     "data": {
      "text/html": [
       "<div>\n",
       "<style scoped>\n",
       "    .dataframe tbody tr th:only-of-type {\n",
       "        vertical-align: middle;\n",
       "    }\n",
       "\n",
       "    .dataframe tbody tr th {\n",
       "        vertical-align: top;\n",
       "    }\n",
       "\n",
       "    .dataframe thead th {\n",
       "        text-align: right;\n",
       "    }\n",
       "</style>\n",
       "<table border=\"1\" class=\"dataframe\">\n",
       "  <thead>\n",
       "    <tr style=\"text-align: right;\">\n",
       "      <th></th>\n",
       "      <th>product_id</th>\n",
       "      <th>product_name</th>\n",
       "      <th>category</th>\n",
       "      <th>discounted_price</th>\n",
       "      <th>actual_price</th>\n",
       "      <th>discount_percentage</th>\n",
       "      <th>rating</th>\n",
       "      <th>rating_count</th>\n",
       "      <th>about_product</th>\n",
       "      <th>user_id</th>\n",
       "      <th>user_name</th>\n",
       "      <th>review_id</th>\n",
       "      <th>review_title</th>\n",
       "      <th>review_content</th>\n",
       "      <th>img_link</th>\n",
       "      <th>product_link</th>\n",
       "    </tr>\n",
       "  </thead>\n",
       "  <tbody>\n",
       "    <tr>\n",
       "      <th>0</th>\n",
       "      <td>B07JW9H4J1</td>\n",
       "      <td>Wayona Nylon Braided USB to Lightning Fast Cha...</td>\n",
       "      <td>Computers&amp;Accessories|Accessories&amp;Peripherals|...</td>\n",
       "      <td>₹399</td>\n",
       "      <td>₹1,099</td>\n",
       "      <td>64%</td>\n",
       "      <td>4.2</td>\n",
       "      <td>24,269</td>\n",
       "      <td>High Compatibility : Compatible With iPhone 12...</td>\n",
       "      <td>AG3D6O4STAQKAY2UVGEUV46KN35Q,AHMY5CWJMMK5BJRBB...</td>\n",
       "      <td>Manav,Adarsh gupta,Sundeep,S.Sayeed Ahmed,jasp...</td>\n",
       "      <td>R3HXWT0LRP0NMF,R2AJM3LFTLZHFO,R6AQJGUP6P86,R1K...</td>\n",
       "      <td>Satisfied,Charging is really fast,Value for mo...</td>\n",
       "      <td>Looks durable Charging is fine tooNo complains...</td>\n",
       "      <td>https://m.media-amazon.com/images/W/WEBP_40237...</td>\n",
       "      <td>https://www.amazon.in/Wayona-Braided-WN3LG1-Sy...</td>\n",
       "    </tr>\n",
       "    <tr>\n",
       "      <th>1</th>\n",
       "      <td>B098NS6PVG</td>\n",
       "      <td>Ambrane Unbreakable 60W / 3A Fast Charging 1.5...</td>\n",
       "      <td>Computers&amp;Accessories|Accessories&amp;Peripherals|...</td>\n",
       "      <td>₹199</td>\n",
       "      <td>₹349</td>\n",
       "      <td>43%</td>\n",
       "      <td>4.0</td>\n",
       "      <td>43,994</td>\n",
       "      <td>Compatible with all Type C enabled devices, be...</td>\n",
       "      <td>AECPFYFQVRUWC3KGNLJIOREFP5LQ,AGYYVPDD7YG7FYNBX...</td>\n",
       "      <td>ArdKn,Nirbhay kumar,Sagar Viswanathan,Asp,Plac...</td>\n",
       "      <td>RGIQEG07R9HS2,R1SMWZQ86XIN8U,R2J3Y1WL29GWDE,RY...</td>\n",
       "      <td>A Good Braided Cable for Your Type C Device,Go...</td>\n",
       "      <td>I ordered this cable to connect my phone to An...</td>\n",
       "      <td>https://m.media-amazon.com/images/W/WEBP_40237...</td>\n",
       "      <td>https://www.amazon.in/Ambrane-Unbreakable-Char...</td>\n",
       "    </tr>\n",
       "    <tr>\n",
       "      <th>2</th>\n",
       "      <td>B096MSW6CT</td>\n",
       "      <td>Sounce Fast Phone Charging Cable &amp; Data Sync U...</td>\n",
       "      <td>Computers&amp;Accessories|Accessories&amp;Peripherals|...</td>\n",
       "      <td>₹199</td>\n",
       "      <td>₹1,899</td>\n",
       "      <td>90%</td>\n",
       "      <td>3.9</td>\n",
       "      <td>7,928</td>\n",
       "      <td>【 Fast Charger&amp; Data Sync】-With built-in safet...</td>\n",
       "      <td>AGU3BBQ2V2DDAMOAKGFAWDDQ6QHA,AESFLDV2PT363T2AQ...</td>\n",
       "      <td>Kunal,Himanshu,viswanath,sai niharka,saqib mal...</td>\n",
       "      <td>R3J3EQQ9TZI5ZJ,R3E7WBGK7ID0KV,RWU79XKQ6I1QF,R2...</td>\n",
       "      <td>Good speed for earlier versions,Good Product,W...</td>\n",
       "      <td>Not quite durable and sturdy,https://m.media-a...</td>\n",
       "      <td>https://m.media-amazon.com/images/W/WEBP_40237...</td>\n",
       "      <td>https://www.amazon.in/Sounce-iPhone-Charging-C...</td>\n",
       "    </tr>\n",
       "    <tr>\n",
       "      <th>3</th>\n",
       "      <td>B08HDJ86NZ</td>\n",
       "      <td>boAt Deuce USB 300 2 in 1 Type-C &amp; Micro USB S...</td>\n",
       "      <td>Computers&amp;Accessories|Accessories&amp;Peripherals|...</td>\n",
       "      <td>₹329</td>\n",
       "      <td>₹699</td>\n",
       "      <td>53%</td>\n",
       "      <td>4.2</td>\n",
       "      <td>94,363</td>\n",
       "      <td>The boAt Deuce USB 300 2 in 1 cable is compati...</td>\n",
       "      <td>AEWAZDZZJLQUYVOVGBEUKSLXHQ5A,AG5HTSFRRE6NL3M5S...</td>\n",
       "      <td>Omkar dhale,JD,HEMALATHA,Ajwadh a.,amar singh ...</td>\n",
       "      <td>R3EEUZKKK9J36I,R3HJVYCLYOY554,REDECAZ7AMPQC,R1...</td>\n",
       "      <td>Good product,Good one,Nice,Really nice product...</td>\n",
       "      <td>Good product,long wire,Charges good,Nice,I bou...</td>\n",
       "      <td>https://m.media-amazon.com/images/I/41V5FtEWPk...</td>\n",
       "      <td>https://www.amazon.in/Deuce-300-Resistant-Tang...</td>\n",
       "    </tr>\n",
       "    <tr>\n",
       "      <th>4</th>\n",
       "      <td>B08CF3B7N1</td>\n",
       "      <td>Portronics Konnect L 1.2M Fast Charging 3A 8 P...</td>\n",
       "      <td>Computers&amp;Accessories|Accessories&amp;Peripherals|...</td>\n",
       "      <td>₹154</td>\n",
       "      <td>₹399</td>\n",
       "      <td>61%</td>\n",
       "      <td>4.2</td>\n",
       "      <td>16,905</td>\n",
       "      <td>[CHARGE &amp; SYNC FUNCTION]- This cable comes wit...</td>\n",
       "      <td>AE3Q6KSUK5P75D5HFYHCRAOLODSA,AFUGIFH5ZAFXRDSZH...</td>\n",
       "      <td>rahuls6099,Swasat Borah,Ajay Wadke,Pranali,RVK...</td>\n",
       "      <td>R1BP4L2HH9TFUP,R16PVJEXKV6QZS,R2UPDB81N66T4P,R...</td>\n",
       "      <td>As good as original,Decent,Good one for second...</td>\n",
       "      <td>Bought this instead of original apple, does th...</td>\n",
       "      <td>https://m.media-amazon.com/images/W/WEBP_40237...</td>\n",
       "      <td>https://www.amazon.in/Portronics-Konnect-POR-1...</td>\n",
       "    </tr>\n",
       "  </tbody>\n",
       "</table>\n",
       "</div>"
      ],
      "text/plain": [
       "   product_id                                       product_name  \\\n",
       "0  B07JW9H4J1  Wayona Nylon Braided USB to Lightning Fast Cha...   \n",
       "1  B098NS6PVG  Ambrane Unbreakable 60W / 3A Fast Charging 1.5...   \n",
       "2  B096MSW6CT  Sounce Fast Phone Charging Cable & Data Sync U...   \n",
       "3  B08HDJ86NZ  boAt Deuce USB 300 2 in 1 Type-C & Micro USB S...   \n",
       "4  B08CF3B7N1  Portronics Konnect L 1.2M Fast Charging 3A 8 P...   \n",
       "\n",
       "                                            category discounted_price  \\\n",
       "0  Computers&Accessories|Accessories&Peripherals|...             ₹399   \n",
       "1  Computers&Accessories|Accessories&Peripherals|...             ₹199   \n",
       "2  Computers&Accessories|Accessories&Peripherals|...             ₹199   \n",
       "3  Computers&Accessories|Accessories&Peripherals|...             ₹329   \n",
       "4  Computers&Accessories|Accessories&Peripherals|...             ₹154   \n",
       "\n",
       "  actual_price discount_percentage rating rating_count  \\\n",
       "0       ₹1,099                 64%    4.2       24,269   \n",
       "1         ₹349                 43%    4.0       43,994   \n",
       "2       ₹1,899                 90%    3.9        7,928   \n",
       "3         ₹699                 53%    4.2       94,363   \n",
       "4         ₹399                 61%    4.2       16,905   \n",
       "\n",
       "                                       about_product  \\\n",
       "0  High Compatibility : Compatible With iPhone 12...   \n",
       "1  Compatible with all Type C enabled devices, be...   \n",
       "2  【 Fast Charger& Data Sync】-With built-in safet...   \n",
       "3  The boAt Deuce USB 300 2 in 1 cable is compati...   \n",
       "4  [CHARGE & SYNC FUNCTION]- This cable comes wit...   \n",
       "\n",
       "                                             user_id  \\\n",
       "0  AG3D6O4STAQKAY2UVGEUV46KN35Q,AHMY5CWJMMK5BJRBB...   \n",
       "1  AECPFYFQVRUWC3KGNLJIOREFP5LQ,AGYYVPDD7YG7FYNBX...   \n",
       "2  AGU3BBQ2V2DDAMOAKGFAWDDQ6QHA,AESFLDV2PT363T2AQ...   \n",
       "3  AEWAZDZZJLQUYVOVGBEUKSLXHQ5A,AG5HTSFRRE6NL3M5S...   \n",
       "4  AE3Q6KSUK5P75D5HFYHCRAOLODSA,AFUGIFH5ZAFXRDSZH...   \n",
       "\n",
       "                                           user_name  \\\n",
       "0  Manav,Adarsh gupta,Sundeep,S.Sayeed Ahmed,jasp...   \n",
       "1  ArdKn,Nirbhay kumar,Sagar Viswanathan,Asp,Plac...   \n",
       "2  Kunal,Himanshu,viswanath,sai niharka,saqib mal...   \n",
       "3  Omkar dhale,JD,HEMALATHA,Ajwadh a.,amar singh ...   \n",
       "4  rahuls6099,Swasat Borah,Ajay Wadke,Pranali,RVK...   \n",
       "\n",
       "                                           review_id  \\\n",
       "0  R3HXWT0LRP0NMF,R2AJM3LFTLZHFO,R6AQJGUP6P86,R1K...   \n",
       "1  RGIQEG07R9HS2,R1SMWZQ86XIN8U,R2J3Y1WL29GWDE,RY...   \n",
       "2  R3J3EQQ9TZI5ZJ,R3E7WBGK7ID0KV,RWU79XKQ6I1QF,R2...   \n",
       "3  R3EEUZKKK9J36I,R3HJVYCLYOY554,REDECAZ7AMPQC,R1...   \n",
       "4  R1BP4L2HH9TFUP,R16PVJEXKV6QZS,R2UPDB81N66T4P,R...   \n",
       "\n",
       "                                        review_title  \\\n",
       "0  Satisfied,Charging is really fast,Value for mo...   \n",
       "1  A Good Braided Cable for Your Type C Device,Go...   \n",
       "2  Good speed for earlier versions,Good Product,W...   \n",
       "3  Good product,Good one,Nice,Really nice product...   \n",
       "4  As good as original,Decent,Good one for second...   \n",
       "\n",
       "                                      review_content  \\\n",
       "0  Looks durable Charging is fine tooNo complains...   \n",
       "1  I ordered this cable to connect my phone to An...   \n",
       "2  Not quite durable and sturdy,https://m.media-a...   \n",
       "3  Good product,long wire,Charges good,Nice,I bou...   \n",
       "4  Bought this instead of original apple, does th...   \n",
       "\n",
       "                                            img_link  \\\n",
       "0  https://m.media-amazon.com/images/W/WEBP_40237...   \n",
       "1  https://m.media-amazon.com/images/W/WEBP_40237...   \n",
       "2  https://m.media-amazon.com/images/W/WEBP_40237...   \n",
       "3  https://m.media-amazon.com/images/I/41V5FtEWPk...   \n",
       "4  https://m.media-amazon.com/images/W/WEBP_40237...   \n",
       "\n",
       "                                        product_link  \n",
       "0  https://www.amazon.in/Wayona-Braided-WN3LG1-Sy...  \n",
       "1  https://www.amazon.in/Ambrane-Unbreakable-Char...  \n",
       "2  https://www.amazon.in/Sounce-iPhone-Charging-C...  \n",
       "3  https://www.amazon.in/Deuce-300-Resistant-Tang...  \n",
       "4  https://www.amazon.in/Portronics-Konnect-POR-1...  "
      ]
     },
     "execution_count": 4,
     "metadata": {},
     "output_type": "execute_result"
    }
   ],
   "source": [
    "amazon.head()"
   ]
  },
  {
   "cell_type": "code",
   "execution_count": 5,
   "id": "7d3543f2",
   "metadata": {},
   "outputs": [
    {
     "name": "stdout",
     "output_type": "stream",
     "text": [
      "Shape of this data =  (1465, 16)\n"
     ]
    }
   ],
   "source": [
    "sh = amazon.shape\n",
    "print(\"Shape of this data = \", sh )"
   ]
  },
  {
   "cell_type": "code",
   "execution_count": 6,
   "id": "d0db8faa",
   "metadata": {},
   "outputs": [
    {
     "name": "stdout",
     "output_type": "stream",
     "text": [
      "Number of null data = \n",
      "product_id             0\n",
      "product_name           0\n",
      "category               0\n",
      "discounted_price       0\n",
      "actual_price           0\n",
      "discount_percentage    0\n",
      "rating                 0\n",
      "rating_count           2\n",
      "about_product          0\n",
      "user_id                0\n",
      "user_name              0\n",
      "review_id              0\n",
      "review_title           0\n",
      "review_content         0\n",
      "img_link               0\n",
      "product_link           0\n",
      "dtype: int64\n"
     ]
    }
   ],
   "source": [
    "print(\"Number of null data = \")\n",
    "print(amazon.isnull().sum())"
   ]
  },
  {
   "cell_type": "code",
   "execution_count": 7,
   "id": "3e0c271d",
   "metadata": {},
   "outputs": [
    {
     "name": "stdout",
     "output_type": "stream",
     "text": [
      "product_id             0\n",
      "product_name           0\n",
      "category               0\n",
      "discounted_price       0\n",
      "actual_price           0\n",
      "discount_percentage    0\n",
      "rating                 0\n",
      "rating_count           0\n",
      "about_product          0\n",
      "user_id                0\n",
      "user_name              0\n",
      "review_id              0\n",
      "review_title           0\n",
      "review_content         0\n",
      "img_link               0\n",
      "product_link           0\n",
      "dtype: int64\n"
     ]
    }
   ],
   "source": [
    "clamazon = amazon.dropna(axis = 0)\n",
    "print(clamazon.isnull().sum())"
   ]
  },
  {
   "cell_type": "code",
   "execution_count": 8,
   "id": "efc02623",
   "metadata": {},
   "outputs": [
    {
     "name": "stdout",
     "output_type": "stream",
     "text": [
      "shape of original data =  (1465, 16)\n",
      "shape of cleaned data =  (1463, 16)\n"
     ]
    }
   ],
   "source": [
    "print(\"shape of original data = \",amazon.shape)\n",
    "print(\"shape of cleaned data = \",clamazon.shape)"
   ]
  },
  {
   "cell_type": "code",
   "execution_count": 9,
   "id": "18848445",
   "metadata": {},
   "outputs": [
    {
     "data": {
      "text/plain": [
       "(1462, 16)"
      ]
     },
     "execution_count": 9,
     "metadata": {},
     "output_type": "execute_result"
    }
   ],
   "source": [
    "clamazon = clamazon[clamazon['rating'] != '|']\n",
    "clamazon.shape"
   ]
  },
  {
   "cell_type": "code",
   "execution_count": 10,
   "id": "8901bb42",
   "metadata": {},
   "outputs": [
    {
     "name": "stdout",
     "output_type": "stream",
     "text": [
      "<class 'pandas.core.frame.DataFrame'>\n",
      "Int64Index: 1462 entries, 0 to 1464\n",
      "Data columns (total 16 columns):\n",
      " #   Column               Non-Null Count  Dtype \n",
      "---  ------               --------------  ----- \n",
      " 0   product_id           1462 non-null   object\n",
      " 1   product_name         1462 non-null   object\n",
      " 2   category             1462 non-null   object\n",
      " 3   discounted_price     1462 non-null   object\n",
      " 4   actual_price         1462 non-null   object\n",
      " 5   discount_percentage  1462 non-null   object\n",
      " 6   rating               1462 non-null   object\n",
      " 7   rating_count         1462 non-null   object\n",
      " 8   about_product        1462 non-null   object\n",
      " 9   user_id              1462 non-null   object\n",
      " 10  user_name            1462 non-null   object\n",
      " 11  review_id            1462 non-null   object\n",
      " 12  review_title         1462 non-null   object\n",
      " 13  review_content       1462 non-null   object\n",
      " 14  img_link             1462 non-null   object\n",
      " 15  product_link         1462 non-null   object\n",
      "dtypes: object(16)\n",
      "memory usage: 194.2+ KB\n",
      "None\n"
     ]
    }
   ],
   "source": [
    "print(clamazon.info())"
   ]
  },
  {
   "cell_type": "code",
   "execution_count": 11,
   "id": "3700aeb9",
   "metadata": {},
   "outputs": [
    {
     "name": "stdout",
     "output_type": "stream",
     "text": [
      "        product_id                                       product_name  \\\n",
      "count         1462                                               1462   \n",
      "unique        1348                                               1334   \n",
      "top     B07JW9H4J1  Fire-Boltt Ninja Call Pro Plus 1.83\" Smart Wat...   \n",
      "freq             3                                                  5   \n",
      "\n",
      "                                                 category discounted_price  \\\n",
      "count                                                1462             1462   \n",
      "unique                                                211              550   \n",
      "top     Computers&Accessories|Accessories&Peripherals|...             ₹199   \n",
      "freq                                                  231               52   \n",
      "\n",
      "       actual_price discount_percentage rating rating_count  \\\n",
      "count          1462                1462   1462         1462   \n",
      "unique          449                  92     27         1142   \n",
      "top            ₹999                 50%    4.1        9,378   \n",
      "freq            118                  56    244            9   \n",
      "\n",
      "                                            about_product  \\\n",
      "count                                                1462   \n",
      "unique                                               1290   \n",
      "top     [CHARGE & SYNC FUNCTION]- This cable comes wit...   \n",
      "freq                                                    6   \n",
      "\n",
      "                                                  user_id  \\\n",
      "count                                                1462   \n",
      "unique                                               1191   \n",
      "top     AHIKJUDTVJ4T6DV6IUGFYZ5LXMPA,AE55KTFVNXYFD5FPY...   \n",
      "freq                                                   10   \n",
      "\n",
      "                                                user_name  \\\n",
      "count                                                1462   \n",
      "unique                                               1191   \n",
      "top     $@|\\|TO$|-|,Sethu madhav,Akash Thakur,Burger P...   \n",
      "freq                                                   10   \n",
      "\n",
      "                                                review_id  \\\n",
      "count                                                1462   \n",
      "unique                                               1191   \n",
      "top     R3F4T5TRYPTMIG,R3DQIEC603E7AY,R1O4Z15FD40PV5,R...   \n",
      "freq                                                   10   \n",
      "\n",
      "                                             review_title  \\\n",
      "count                                                1462   \n",
      "unique                                               1191   \n",
      "top     Worked on iPhone 7 and didn’t work on XR,Good ...   \n",
      "freq                                                   10   \n",
      "\n",
      "                                           review_content  \\\n",
      "count                                                1462   \n",
      "unique                                               1209   \n",
      "top     I am not big on camera usage, personally. I wa...   \n",
      "freq                                                    8   \n",
      "\n",
      "                                                 img_link  \\\n",
      "count                                                1462   \n",
      "unique                                               1409   \n",
      "top     https://m.media-amazon.com/images/I/413sCRKobN...   \n",
      "freq                                                    3   \n",
      "\n",
      "                                             product_link  \n",
      "count                                                1462  \n",
      "unique                                               1462  \n",
      "top     https://www.amazon.in/Wayona-Braided-WN3LG1-Sy...  \n",
      "freq                                                    1  \n"
     ]
    }
   ],
   "source": [
    "print(clamazon.describe())"
   ]
  },
  {
   "cell_type": "code",
   "execution_count": 12,
   "id": "3e72c86d",
   "metadata": {},
   "outputs": [],
   "source": [
    "clamazon['main_category'] = clamazon.loc[:,\"category\"].astype(str).str.split('|').str[0]\n",
    "clamazon['sub_category'] = clamazon.loc[:,\"category\"].astype(str).str.split('|').str[-1]"
   ]
  },
  {
   "cell_type": "code",
   "execution_count": 13,
   "id": "76ad26d3",
   "metadata": {},
   "outputs": [
    {
     "name": "stdout",
     "output_type": "stream",
     "text": [
      "Index(['product_id', 'product_name', 'category', 'discounted_price',\n",
      "       'actual_price', 'discount_percentage', 'rating', 'rating_count',\n",
      "       'about_product', 'user_id', 'user_name', 'review_id', 'review_title',\n",
      "       'review_content', 'img_link', 'product_link', 'main_category',\n",
      "       'sub_category'],\n",
      "      dtype='object')\n",
      "shape of dataset =  (1462, 18)\n"
     ]
    }
   ],
   "source": [
    "print(clamazon.columns)\n",
    "print(\"shape of dataset = \",clamazon.shape)"
   ]
  },
  {
   "cell_type": "code",
   "execution_count": 14,
   "id": "99a2cf24",
   "metadata": {},
   "outputs": [
    {
     "name": "stdout",
     "output_type": "stream",
     "text": [
      "0       Computers&Accessories\n",
      "1       Computers&Accessories\n",
      "2       Computers&Accessories\n",
      "3       Computers&Accessories\n",
      "4       Computers&Accessories\n",
      "                ...          \n",
      "1460             Home&Kitchen\n",
      "1461             Home&Kitchen\n",
      "1462             Home&Kitchen\n",
      "1463             Home&Kitchen\n",
      "1464             Home&Kitchen\n",
      "Name: main_category, Length: 1462, dtype: object\n",
      "0                      USBCables\n",
      "1                      USBCables\n",
      "2                      USBCables\n",
      "3                      USBCables\n",
      "4                      USBCables\n",
      "                  ...           \n",
      "1460    WaterPurifierAccessories\n",
      "1461           Rice&PastaCookers\n",
      "1462              HeatConvectors\n",
      "1463                 ExhaustFans\n",
      "1464              SandwichMakers\n",
      "Name: sub_category, Length: 1462, dtype: object\n"
     ]
    }
   ],
   "source": [
    "print(clamazon['main_category'])\n",
    "print(clamazon['sub_category'])"
   ]
  },
  {
   "cell_type": "code",
   "execution_count": null,
   "id": "fb53c1c9",
   "metadata": {},
   "outputs": [],
   "source": []
  },
  {
   "cell_type": "code",
   "execution_count": 15,
   "id": "0b13f5ed",
   "metadata": {},
   "outputs": [
    {
     "name": "stdout",
     "output_type": "stream",
     "text": [
      "Electronics              526\n",
      "Computers&Accessories    451\n",
      "Home&Kitchen             447\n",
      "OfficeProducts            31\n",
      "MusicalInstruments         2\n",
      "HomeImprovement            2\n",
      "Toys&Games                 1\n",
      "Car&Motorbike              1\n",
      "Health&PersonalCare        1\n",
      "Name: main_category, dtype: int64\n"
     ]
    }
   ],
   "source": [
    "cate = clamazon[\"main_category\"].value_counts()\n",
    "print(cate)\n"
   ]
  },
  {
   "cell_type": "code",
   "execution_count": 16,
   "id": "6c7fdd42",
   "metadata": {},
   "outputs": [
    {
     "data": {
      "image/png": "[encoded data removed]",
      "text/plain": [
       "<Figure size 432x288 with 1 Axes>"
      ]
     },
     "metadata": {
      "needs_background": "light"
     },
     "output_type": "display_data"
    }
   ],
   "source": [
    "#plt.figure(figsize=(25,25))\n",
    "x = cate\n",
    "y = cate.index\n",
    "sb.barplot(x = x,y = y)\n",
    "plt.xlabel(\"Numbers\",fontsize = 18)\n",
    "plt.ylabel(\"Category\",fontsize = 18)\n",
    "plt.title(\"Top 10 Ordered category\",fontsize = 21)\n",
    "plt.show()"
   ]
  },
  {
   "cell_type": "code",
   "execution_count": 17,
   "id": "a9ce1e4b",
   "metadata": {},
   "outputs": [
    {
     "name": "stdout",
     "output_type": "stream",
     "text": [
      "USBCables           231\n",
      "SmartWatches         76\n",
      "Smartphones          68\n",
      "SmartTelevisions     63\n",
      "In-Ear               52\n",
      "RemoteControls       49\n",
      "MixerGrinders        27\n",
      "HDMICables           24\n",
      "DryIrons             24\n",
      "Mice                 24\n",
      "Name: sub_category, dtype: int64\n"
     ]
    }
   ],
   "source": [
    "scate = clamazon[\"sub_category\"].value_counts().head(10)\n",
    "print(scate)"
   ]
  },
  {
   "cell_type": "code",
   "execution_count": 18,
   "id": "7fe7d268",
   "metadata": {},
   "outputs": [
    {
     "data": {
      "image/png": "[encoded data removed]",
      "text/plain": [
       "<Figure size 432x288 with 1 Axes>"
      ]
     },
     "metadata": {
      "needs_background": "light"
     },
     "output_type": "display_data"
    }
   ],
   "source": [
    "sb.barplot(x = scate,y = scate.index,data = clamazon)\n",
    "plt.title(\"Top 10 sub category ordered\")\n",
    "plt.show()"
   ]
  },
  {
   "cell_type": "code",
   "execution_count": 19,
   "id": "77ef7c49",
   "metadata": {},
   "outputs": [],
   "source": [
    "clamazon['discounted_price'] = clamazon.loc[:,'discounted_price'].str.replace('₹','')\n",
    "clamazon['actual_price'] = clamazon.loc[:,'actual_price'].str.replace('₹','')\n",
    "clamazon['discounted_price'] = clamazon['discounted_price'].str.replace(\",\",'')\n",
    "clamazon['actual_price'] = clamazon['actual_price'].str.replace(\",\",'')\n"
   ]
  },
  {
   "cell_type": "code",
   "execution_count": 20,
   "id": "262dde5f",
   "metadata": {},
   "outputs": [
    {
     "name": "stdout",
     "output_type": "stream",
     "text": [
      "object\n",
      "object\n"
     ]
    }
   ],
   "source": [
    "dp = clamazon['discounted_price']\n",
    "ap = clamazon['actual_price']\n",
    "print(dp.dtype)\n",
    "print(ap.dtype)"
   ]
  },
  {
   "cell_type": "code",
   "execution_count": 21,
   "id": "6ea5409c",
   "metadata": {},
   "outputs": [],
   "source": [
    "clamazon['discounted_price'] = clamazon['discounted_price'].astype('float64')\n",
    "clamazon['actual_price'] = clamazon['actual_price'].astype('float64')"
   ]
  },
  {
   "cell_type": "code",
   "execution_count": 22,
   "id": "d34e2ddf",
   "metadata": {},
   "outputs": [
    {
     "name": "stdout",
     "output_type": "stream",
     "text": [
      "float64\n",
      "float64\n"
     ]
    }
   ],
   "source": [
    "dp = clamazon['discounted_price']\n",
    "ap = clamazon['actual_price']\n",
    "print(dp.dtype)\n",
    "print(ap.dtype)"
   ]
  },
  {
   "cell_type": "code",
   "execution_count": 23,
   "id": "f06253d0",
   "metadata": {},
   "outputs": [
    {
     "name": "stdout",
     "output_type": "stream",
     "text": [
      "0    399.0\n",
      "1    199.0\n",
      "2    199.0\n",
      "3    329.0\n",
      "4    154.0\n",
      "Name: discounted_price, dtype: float64\n",
      "0    1099.0\n",
      "1     349.0\n",
      "2    1899.0\n",
      "3     699.0\n",
      "4     399.0\n",
      "Name: actual_price, dtype: float64\n"
     ]
    }
   ],
   "source": [
    "print(dp.head())\n",
    "print(ap.head())"
   ]
  },
  {
   "cell_type": "code",
   "execution_count": 24,
   "id": "24266131",
   "metadata": {},
   "outputs": [
    {
     "data": {
      "image/png": "[encoded data removed]",
      "text/plain": [
       "<Figure size 432x288 with 1 Axes>"
      ]
     },
     "metadata": {
      "needs_background": "light"
     },
     "output_type": "display_data"
    }
   ],
   "source": [
    "x = dp\n",
    "y = ap\n",
    "plt.scatter(x,y)\n",
    "plt.xlabel('Discount Price')\n",
    "plt.ylabel('Actual Price')\n",
    "plt.title('Actual vs Discount Price')\n",
    "plt.show()"
   ]
  },
  {
   "cell_type": "code",
   "execution_count": 25,
   "id": "309e8ab6",
   "metadata": {},
   "outputs": [
    {
     "name": "stdout",
     "output_type": "stream",
     "text": [
      "0       4.2\n",
      "1       4.0\n",
      "2       3.9\n",
      "3       4.2\n",
      "4       4.2\n",
      "       ... \n",
      "1460      4\n",
      "1461    4.1\n",
      "1462    3.6\n",
      "1463      4\n",
      "1464    4.3\n",
      "Name: rating, Length: 1462, dtype: object\n"
     ]
    }
   ],
   "source": [
    "rat = clamazon['rating']\n",
    "print(rat)"
   ]
  },
  {
   "cell_type": "code",
   "execution_count": 26,
   "id": "5d5257b9",
   "metadata": {},
   "outputs": [
    {
     "name": "stdout",
     "output_type": "stream",
     "text": [
      "0       4.2\n",
      "1       4.0\n",
      "2       3.9\n",
      "3       4.2\n",
      "4       4.2\n",
      "       ... \n",
      "1460    4.0\n",
      "1461    4.1\n",
      "1462    3.6\n",
      "1463    4.0\n",
      "1464    4.3\n",
      "Name: rating, Length: 1462, dtype: float64\n"
     ]
    }
   ],
   "source": [
    "clamazon['rating'] = clamazon['rating'].astype('float64')\n",
    "rat1 = clamazon['rating']\n",
    "print(rat1)\n"
   ]
  },
  {
   "cell_type": "code",
   "execution_count": 27,
   "id": "f6cfa77d",
   "metadata": {},
   "outputs": [
    {
     "name": "stdout",
     "output_type": "stream",
     "text": [
      "4.1    244\n",
      "4.3    230\n",
      "4.2    228\n",
      "4.0    181\n",
      "3.9    123\n",
      "4.4    123\n",
      "3.8     86\n",
      "4.5     75\n",
      "3.7     42\n",
      "3.6     35\n",
      "3.5     26\n",
      "4.6     17\n",
      "3.3     16\n",
      "3.4     10\n",
      "4.7      6\n",
      "3.1      4\n",
      "3.0      3\n",
      "4.8      3\n",
      "3.2      2\n",
      "5.0      2\n",
      "2.8      2\n",
      "2.3      1\n",
      "2.0      1\n",
      "2.6      1\n",
      "2.9      1\n",
      "Name: rating, dtype: int64\n"
     ]
    }
   ],
   "source": [
    "ratingg = clamazon['rating'].value_counts()\n",
    "print(ratingg)"
   ]
  },
  {
   "cell_type": "code",
   "execution_count": 28,
   "id": "2e8c6873",
   "metadata": {},
   "outputs": [
    {
     "data": {
      "image/png": "[encoded data removed]",
      "text/plain": [
       "<Figure size 432x288 with 1 Axes>"
      ]
     },
     "metadata": {
      "needs_background": "light"
     },
     "output_type": "display_data"
    }
   ],
   "source": [
    "plt.hist(clamazon['rating'])\n",
    "plt.xlabel(\"Rating\")\n",
    "plt.ylabel(\"numbers\")\n",
    "plt.title(\"Frequency of ratings\")\n",
    "plt.show()\n"
   ]
  },
  {
   "cell_type": "code",
   "execution_count": 29,
   "id": "3c60090d",
   "metadata": {},
   "outputs": [
    {
     "data": {
      "image/png": "[encoded data removed]",
      "text/plain": [
       "<Figure size 432x288 with 1 Axes>"
      ]
     },
     "metadata": {
      "needs_background": "light"
     },
     "output_type": "display_data"
    }
   ],
   "source": [
    "x = clamazon['rating']\n",
    "y = clamazon['actual_price']\n",
    "sb.scatterplot(x = x,y = y,data = clamazon)\n",
    "plt.title(\"Rating vs Actual Prices\")\n",
    "plt.show()"
   ]
  },
  {
   "cell_type": "code",
   "execution_count": 30,
   "id": "19c06b07",
   "metadata": {},
   "outputs": [
    {
     "name": "stdout",
     "output_type": "stream",
     "text": [
      "main_category\n",
      "Electronics              2147.0\n",
      "Computers&Accessories    1874.2\n",
      "Home&Kitchen             1806.2\n",
      "OfficeProducts            133.6\n",
      "HomeImprovement             8.5\n",
      "MusicalInstruments          7.8\n",
      "Toys&Games                  4.3\n",
      "Health&PersonalCare         4.0\n",
      "Car&Motorbike               3.8\n",
      "Name: rating, dtype: float64\n"
     ]
    },
    {
     "data": {
      "image/png": "[encoded data removed]",
      "text/plain": [
       "<Figure size 432x288 with 1 Axes>"
      ]
     },
     "metadata": {
      "needs_background": "light"
     },
     "output_type": "display_data"
    }
   ],
   "source": [
    "mr = clamazon.groupby(['main_category'])['rating'].sum().nlargest(10)\n",
    "print(mr)\n",
    "x = mr\n",
    "y = mr.index\n",
    "sb.barplot(x = x,y=y,data = clamazon)\n",
    "plt.title(\"Top 10 most reviewed category\")\n",
    "plt.show()"
   ]
  },
  {
   "cell_type": "code",
   "execution_count": 31,
   "id": "5612af8f",
   "metadata": {},
   "outputs": [
    {
     "name": "stdout",
     "output_type": "stream",
     "text": [
      "sub_category\n",
      "USBCables           959.4\n",
      "SmartWatches        305.9\n",
      "Smartphones         278.8\n",
      "SmartTelevisions    265.2\n",
      "In-Ear              202.7\n",
      "RemoteControls      186.2\n",
      "MixerGrinders       108.3\n",
      "Mice                102.9\n",
      "HDMICables          102.1\n",
      "DryIrons             99.1\n",
      "Name: rating, dtype: float64\n"
     ]
    },
    {
     "data": {
      "image/png": "[encoded data removed]",
      "text/plain": [
       "<Figure size 432x288 with 1 Axes>"
      ]
     },
     "metadata": {
      "needs_background": "light"
     },
     "output_type": "display_data"
    }
   ],
   "source": [
    "sbi = clamazon.groupby(['sub_category'])['rating'].sum().nlargest(10)\n",
    "print(sbi)\n",
    "sb.barplot(x = sbi,y = sbi.index,data = clamazon)\n",
    "plt.title(\"top 10 most ordered sub product\")\n",
    "plt.show()"
   ]
  },
  {
   "cell_type": "code",
   "execution_count": 32,
   "id": "87af2114",
   "metadata": {},
   "outputs": [
    {
     "name": "stdout",
     "output_type": "stream",
     "text": [
      "sub_category\n",
      "SmartTelevisions          2528369.00\n",
      "Smartphones               1400351.00\n",
      "SmartWatches               650162.00\n",
      "USBCables                  209105.32\n",
      "WaterFilters&Purifiers     187426.00\n",
      "In-Ear                     153924.00\n",
      "MixerGrinders              142819.00\n",
      "StorageWaterHeaters        140858.00\n",
      "HEPAAirPurifiers           108453.00\n",
      "InstantWaterHeaters        104957.00\n",
      "Name: actual_price, dtype: float64\n"
     ]
    },
    {
     "data": {
      "image/png": "[encoded data removed]",
      "text/plain": [
       "<Figure size 432x288 with 1 Axes>"
      ]
     },
     "metadata": {
      "needs_background": "light"
     },
     "output_type": "display_data"
    }
   ],
   "source": [
    "ab = clamazon.groupby(['sub_category'])['actual_price'].sum().nlargest(10)\n",
    "print(ab)\n",
    "x = ab\n",
    "y = ab.index\n",
    "sb.barplot(x = x,y = y,data = clamazon)\n",
    "plt.title(\"Top 10 product accod. actual price\")\n",
    "plt.show()"
   ]
  },
  {
   "cell_type": "code",
   "execution_count": 33,
   "id": "ee72118c",
   "metadata": {},
   "outputs": [
    {
     "name": "stdout",
     "output_type": "stream",
     "text": [
      "sub_category\n",
      "SmartTelevisions          1564932.00\n",
      "Smartphones               1071302.00\n",
      "SmartWatches               177817.00\n",
      "WaterFilters&Purifiers      84183.00\n",
      "USBCables                   83600.62\n",
      "MixerGrinders               81127.48\n",
      "StorageWaterHeaters         75880.00\n",
      "InstantWaterHeaters         55250.00\n",
      "In-Ear                      50761.00\n",
      "FanHeaters                  49403.00\n",
      "Name: discounted_price, dtype: float64\n"
     ]
    },
    {
     "data": {
      "image/png": "[encoded data removed]",
      "text/plain": [
       "<Figure size 432x288 with 1 Axes>"
      ]
     },
     "metadata": {
      "needs_background": "light"
     },
     "output_type": "display_data"
    }
   ],
   "source": [
    "bc = clamazon.groupby(['sub_category'])['discounted_price'].sum().nlargest(10)\n",
    "print(bc)\n",
    "x = bc\n",
    "y = bc.index\n",
    "sb.barplot(x = x,y = y,data = clamazon)\n",
    "plt.title(\"top 10 product accod to discount price\")\n",
    "plt.show()"
   ]
  },
  {
   "cell_type": "code",
   "execution_count": 34,
   "id": "7de0185f",
   "metadata": {},
   "outputs": [
    {
     "name": "stdout",
     "output_type": "stream",
     "text": [
      "sub_category\n",
      "ColouredPaper             99.0\n",
      "WoodenPencils             99.0\n",
      "Pens                     100.0\n",
      "ColouringPens&Markers    150.0\n",
      "Tape                     165.0\n",
      "BottledInk               200.0\n",
      "FountainPens             225.0\n",
      "PaintingMaterials        230.0\n",
      "GelInkRollerballPens     300.0\n",
      "BatteryChargers          400.0\n",
      "Name: actual_price, dtype: float64\n"
     ]
    },
    {
     "data": {
      "image/png": "[encoded data removed]",
      "text/plain": [
       "<Figure size 432x288 with 1 Axes>"
      ]
     },
     "metadata": {
      "needs_background": "light"
     },
     "output_type": "display_data"
    }
   ],
   "source": [
    "cd = clamazon.groupby(['sub_category'])['actual_price'].sum().nsmallest(10)\n",
    "print(cd)\n",
    "x = cd\n",
    "y = cd.index\n",
    "sb.barplot(x = x,y = y,data = clamazon)\n",
    "plt.title(\"Bottom 10 product accod. actual price\")\n",
    "plt.show()"
   ]
  },
  {
   "cell_type": "code",
   "execution_count": 35,
   "id": "16cc90e8",
   "metadata": {},
   "outputs": [
    {
     "data": {
      "text/html": [
       "<div>\n",
       "<style scoped>\n",
       "    .dataframe tbody tr th:only-of-type {\n",
       "        vertical-align: middle;\n",
       "    }\n",
       "\n",
       "    .dataframe tbody tr th {\n",
       "        vertical-align: top;\n",
       "    }\n",
       "\n",
       "    .dataframe thead th {\n",
       "        text-align: right;\n",
       "    }\n",
       "</style>\n",
       "<table border=\"1\" class=\"dataframe\">\n",
       "  <thead>\n",
       "    <tr style=\"text-align: right;\">\n",
       "      <th></th>\n",
       "      <th>product_id</th>\n",
       "      <th>main_category</th>\n",
       "      <th>sub_category</th>\n",
       "      <th>user_id</th>\n",
       "      <th>user_name</th>\n",
       "    </tr>\n",
       "  </thead>\n",
       "  <tbody>\n",
       "    <tr>\n",
       "      <th>0</th>\n",
       "      <td>B07JW9H4J1</td>\n",
       "      <td>Computers&amp;Accessories</td>\n",
       "      <td>USBCables</td>\n",
       "      <td>AG3D6O4STAQKAY2UVGEUV46KN35Q,AHMY5CWJMMK5BJRBB...</td>\n",
       "      <td>Manav,Adarsh gupta,Sundeep,S.Sayeed Ahmed,jasp...</td>\n",
       "    </tr>\n",
       "    <tr>\n",
       "      <th>1</th>\n",
       "      <td>B098NS6PVG</td>\n",
       "      <td>Computers&amp;Accessories</td>\n",
       "      <td>USBCables</td>\n",
       "      <td>AECPFYFQVRUWC3KGNLJIOREFP5LQ,AGYYVPDD7YG7FYNBX...</td>\n",
       "      <td>ArdKn,Nirbhay kumar,Sagar Viswanathan,Asp,Plac...</td>\n",
       "    </tr>\n",
       "    <tr>\n",
       "      <th>2</th>\n",
       "      <td>B096MSW6CT</td>\n",
       "      <td>Computers&amp;Accessories</td>\n",
       "      <td>USBCables</td>\n",
       "      <td>AGU3BBQ2V2DDAMOAKGFAWDDQ6QHA,AESFLDV2PT363T2AQ...</td>\n",
       "      <td>Kunal,Himanshu,viswanath,sai niharka,saqib mal...</td>\n",
       "    </tr>\n",
       "    <tr>\n",
       "      <th>3</th>\n",
       "      <td>B08HDJ86NZ</td>\n",
       "      <td>Computers&amp;Accessories</td>\n",
       "      <td>USBCables</td>\n",
       "      <td>AEWAZDZZJLQUYVOVGBEUKSLXHQ5A,AG5HTSFRRE6NL3M5S...</td>\n",
       "      <td>Omkar dhale,JD,HEMALATHA,Ajwadh a.,amar singh ...</td>\n",
       "    </tr>\n",
       "    <tr>\n",
       "      <th>4</th>\n",
       "      <td>B08CF3B7N1</td>\n",
       "      <td>Computers&amp;Accessories</td>\n",
       "      <td>USBCables</td>\n",
       "      <td>AE3Q6KSUK5P75D5HFYHCRAOLODSA,AFUGIFH5ZAFXRDSZH...</td>\n",
       "      <td>rahuls6099,Swasat Borah,Ajay Wadke,Pranali,RVK...</td>\n",
       "    </tr>\n",
       "    <tr>\n",
       "      <th>...</th>\n",
       "      <td>...</td>\n",
       "      <td>...</td>\n",
       "      <td>...</td>\n",
       "      <td>...</td>\n",
       "      <td>...</td>\n",
       "    </tr>\n",
       "    <tr>\n",
       "      <th>1460</th>\n",
       "      <td>B08L7J3T31</td>\n",
       "      <td>Home&amp;Kitchen</td>\n",
       "      <td>WaterPurifierAccessories</td>\n",
       "      <td>AHITFY6AHALOFOHOZEOC6XBP4FEA,AFRABBODZJZQB6Z4U...</td>\n",
       "      <td>Prabha ds,Raghuram bk,Real Deal,Amazon Custome...</td>\n",
       "    </tr>\n",
       "    <tr>\n",
       "      <th>1461</th>\n",
       "      <td>B01M6453MB</td>\n",
       "      <td>Home&amp;Kitchen</td>\n",
       "      <td>Rice&amp;PastaCookers</td>\n",
       "      <td>AFG5FM3NEMOL6BNFRV2NK5FNJCHQ,AGEINTRN6Z563RMLH...</td>\n",
       "      <td>Manu Bhai,Naveenpittu,Evatira Sangma,JAGANNADH...</td>\n",
       "    </tr>\n",
       "    <tr>\n",
       "      <th>1462</th>\n",
       "      <td>B009P2LIL4</td>\n",
       "      <td>Home&amp;Kitchen</td>\n",
       "      <td>HeatConvectors</td>\n",
       "      <td>AGVPWCMAHYQWJOQKMUJN4DW3KM5Q,AF4Q3E66MY4SR7YQZ...</td>\n",
       "      <td>Nehal Desai,Danish Parwez,Amazon Customer,Amaz...</td>\n",
       "    </tr>\n",
       "    <tr>\n",
       "      <th>1463</th>\n",
       "      <td>B00J5DYCCA</td>\n",
       "      <td>Home&amp;Kitchen</td>\n",
       "      <td>ExhaustFans</td>\n",
       "      <td>AF2JQCLSCY3QJATWUNNHUSVUPNQQ,AFDMLUXC5LS5RXDJS...</td>\n",
       "      <td>Shubham Dubey,E.GURUBARAN,Mayank S.,eusuf khan...</td>\n",
       "    </tr>\n",
       "    <tr>\n",
       "      <th>1464</th>\n",
       "      <td>B01486F4G6</td>\n",
       "      <td>Home&amp;Kitchen</td>\n",
       "      <td>SandwichMakers</td>\n",
       "      <td>AFGW5PT3R6ZAVQR4Y5MWVAKBZAYA,AG7QNJ2SCS5VS5VYY...</td>\n",
       "      <td>Rajib,Ajay B,Vikas Kahol,PARDEEP,Anindya Prama...</td>\n",
       "    </tr>\n",
       "  </tbody>\n",
       "</table>\n",
       "<p>1462 rows × 5 columns</p>\n",
       "</div>"
      ],
      "text/plain": [
       "      product_id          main_category              sub_category  \\\n",
       "0     B07JW9H4J1  Computers&Accessories                 USBCables   \n",
       "1     B098NS6PVG  Computers&Accessories                 USBCables   \n",
       "2     B096MSW6CT  Computers&Accessories                 USBCables   \n",
       "3     B08HDJ86NZ  Computers&Accessories                 USBCables   \n",
       "4     B08CF3B7N1  Computers&Accessories                 USBCables   \n",
       "...          ...                    ...                       ...   \n",
       "1460  B08L7J3T31           Home&Kitchen  WaterPurifierAccessories   \n",
       "1461  B01M6453MB           Home&Kitchen         Rice&PastaCookers   \n",
       "1462  B009P2LIL4           Home&Kitchen            HeatConvectors   \n",
       "1463  B00J5DYCCA           Home&Kitchen               ExhaustFans   \n",
       "1464  B01486F4G6           Home&Kitchen            SandwichMakers   \n",
       "\n",
       "                                                user_id  \\\n",
       "0     AG3D6O4STAQKAY2UVGEUV46KN35Q,AHMY5CWJMMK5BJRBB...   \n",
       "1     AECPFYFQVRUWC3KGNLJIOREFP5LQ,AGYYVPDD7YG7FYNBX...   \n",
       "2     AGU3BBQ2V2DDAMOAKGFAWDDQ6QHA,AESFLDV2PT363T2AQ...   \n",
       "3     AEWAZDZZJLQUYVOVGBEUKSLXHQ5A,AG5HTSFRRE6NL3M5S...   \n",
       "4     AE3Q6KSUK5P75D5HFYHCRAOLODSA,AFUGIFH5ZAFXRDSZH...   \n",
       "...                                                 ...   \n",
       "1460  AHITFY6AHALOFOHOZEOC6XBP4FEA,AFRABBODZJZQB6Z4U...   \n",
       "1461  AFG5FM3NEMOL6BNFRV2NK5FNJCHQ,AGEINTRN6Z563RMLH...   \n",
       "1462  AGVPWCMAHYQWJOQKMUJN4DW3KM5Q,AF4Q3E66MY4SR7YQZ...   \n",
       "1463  AF2JQCLSCY3QJATWUNNHUSVUPNQQ,AFDMLUXC5LS5RXDJS...   \n",
       "1464  AFGW5PT3R6ZAVQR4Y5MWVAKBZAYA,AG7QNJ2SCS5VS5VYY...   \n",
       "\n",
       "                                              user_name  \n",
       "0     Manav,Adarsh gupta,Sundeep,S.Sayeed Ahmed,jasp...  \n",
       "1     ArdKn,Nirbhay kumar,Sagar Viswanathan,Asp,Plac...  \n",
       "2     Kunal,Himanshu,viswanath,sai niharka,saqib mal...  \n",
       "3     Omkar dhale,JD,HEMALATHA,Ajwadh a.,amar singh ...  \n",
       "4     rahuls6099,Swasat Borah,Ajay Wadke,Pranali,RVK...  \n",
       "...                                                 ...  \n",
       "1460  Prabha ds,Raghuram bk,Real Deal,Amazon Custome...  \n",
       "1461  Manu Bhai,Naveenpittu,Evatira Sangma,JAGANNADH...  \n",
       "1462  Nehal Desai,Danish Parwez,Amazon Customer,Amaz...  \n",
       "1463  Shubham Dubey,E.GURUBARAN,Mayank S.,eusuf khan...  \n",
       "1464  Rajib,Ajay B,Vikas Kahol,PARDEEP,Anindya Prama...  \n",
       "\n",
       "[1462 rows x 5 columns]"
      ]
     },
     "execution_count": 35,
     "metadata": {},
     "output_type": "execute_result"
    }
   ],
   "source": [
    "clamazon[['product_id','main_category','sub_category','user_id','user_name']]"
   ]
  },
  {
   "cell_type": "code",
   "execution_count": 36,
   "id": "ddd2ebc3",
   "metadata": {},
   "outputs": [
    {
     "data": {
      "text/html": [
       "<div>\n",
       "<style scoped>\n",
       "    .dataframe tbody tr th:only-of-type {\n",
       "        vertical-align: middle;\n",
       "    }\n",
       "\n",
       "    .dataframe tbody tr th {\n",
       "        vertical-align: top;\n",
       "    }\n",
       "\n",
       "    .dataframe thead th {\n",
       "        text-align: right;\n",
       "    }\n",
       "</style>\n",
       "<table border=\"1\" class=\"dataframe\">\n",
       "  <thead>\n",
       "    <tr style=\"text-align: right;\">\n",
       "      <th></th>\n",
       "      <th>actual_price</th>\n",
       "      <th>discounted_price</th>\n",
       "      <th>rating</th>\n",
       "    </tr>\n",
       "  </thead>\n",
       "  <tbody>\n",
       "    <tr>\n",
       "      <th>0</th>\n",
       "      <td>1099.0</td>\n",
       "      <td>399.0</td>\n",
       "      <td>4.2</td>\n",
       "    </tr>\n",
       "    <tr>\n",
       "      <th>1</th>\n",
       "      <td>349.0</td>\n",
       "      <td>199.0</td>\n",
       "      <td>4.0</td>\n",
       "    </tr>\n",
       "    <tr>\n",
       "      <th>2</th>\n",
       "      <td>1899.0</td>\n",
       "      <td>199.0</td>\n",
       "      <td>3.9</td>\n",
       "    </tr>\n",
       "    <tr>\n",
       "      <th>3</th>\n",
       "      <td>699.0</td>\n",
       "      <td>329.0</td>\n",
       "      <td>4.2</td>\n",
       "    </tr>\n",
       "    <tr>\n",
       "      <th>4</th>\n",
       "      <td>399.0</td>\n",
       "      <td>154.0</td>\n",
       "      <td>4.2</td>\n",
       "    </tr>\n",
       "    <tr>\n",
       "      <th>...</th>\n",
       "      <td>...</td>\n",
       "      <td>...</td>\n",
       "      <td>...</td>\n",
       "    </tr>\n",
       "    <tr>\n",
       "      <th>1460</th>\n",
       "      <td>919.0</td>\n",
       "      <td>379.0</td>\n",
       "      <td>4.0</td>\n",
       "    </tr>\n",
       "    <tr>\n",
       "      <th>1461</th>\n",
       "      <td>3045.0</td>\n",
       "      <td>2280.0</td>\n",
       "      <td>4.1</td>\n",
       "    </tr>\n",
       "    <tr>\n",
       "      <th>1462</th>\n",
       "      <td>3080.0</td>\n",
       "      <td>2219.0</td>\n",
       "      <td>3.6</td>\n",
       "    </tr>\n",
       "    <tr>\n",
       "      <th>1463</th>\n",
       "      <td>1890.0</td>\n",
       "      <td>1399.0</td>\n",
       "      <td>4.0</td>\n",
       "    </tr>\n",
       "    <tr>\n",
       "      <th>1464</th>\n",
       "      <td>3690.0</td>\n",
       "      <td>2863.0</td>\n",
       "      <td>4.3</td>\n",
       "    </tr>\n",
       "  </tbody>\n",
       "</table>\n",
       "<p>1462 rows × 3 columns</p>\n",
       "</div>"
      ],
      "text/plain": [
       "      actual_price  discounted_price  rating\n",
       "0           1099.0             399.0     4.2\n",
       "1            349.0             199.0     4.0\n",
       "2           1899.0             199.0     3.9\n",
       "3            699.0             329.0     4.2\n",
       "4            399.0             154.0     4.2\n",
       "...            ...               ...     ...\n",
       "1460         919.0             379.0     4.0\n",
       "1461        3045.0            2280.0     4.1\n",
       "1462        3080.0            2219.0     3.6\n",
       "1463        1890.0            1399.0     4.0\n",
       "1464        3690.0            2863.0     4.3\n",
       "\n",
       "[1462 rows x 3 columns]"
      ]
     },
     "execution_count": 36,
     "metadata": {},
     "output_type": "execute_result"
    }
   ],
   "source": [
    "clamazon[['actual_price','discounted_price','rating']]\n"
   ]
  },
  {
   "cell_type": "code",
   "execution_count": 37,
   "id": "b1e45430",
   "metadata": {},
   "outputs": [
    {
     "data": {
      "text/html": [
       "<div>\n",
       "<style scoped>\n",
       "    .dataframe tbody tr th:only-of-type {\n",
       "        vertical-align: middle;\n",
       "    }\n",
       "\n",
       "    .dataframe tbody tr th {\n",
       "        vertical-align: top;\n",
       "    }\n",
       "\n",
       "    .dataframe thead th {\n",
       "        text-align: right;\n",
       "    }\n",
       "</style>\n",
       "<table border=\"1\" class=\"dataframe\">\n",
       "  <thead>\n",
       "    <tr style=\"text-align: right;\">\n",
       "      <th></th>\n",
       "      <th></th>\n",
       "      <th>actual_price</th>\n",
       "      <th>discounted_price</th>\n",
       "      <th>rating</th>\n",
       "    </tr>\n",
       "    <tr>\n",
       "      <th>main_category</th>\n",
       "      <th>sub_category</th>\n",
       "      <th></th>\n",
       "      <th></th>\n",
       "      <th></th>\n",
       "    </tr>\n",
       "  </thead>\n",
       "  <tbody>\n",
       "    <tr>\n",
       "      <th>Car&amp;Motorbike</th>\n",
       "      <th>AirPurifiers&amp;Ionizers</th>\n",
       "      <td>4000.000000</td>\n",
       "      <td>2339.000000</td>\n",
       "      <td>3.800000</td>\n",
       "    </tr>\n",
       "    <tr>\n",
       "      <th rowspan=\"4\" valign=\"top\">Computers&amp;Accessories</th>\n",
       "      <th>BluetoothAdapters</th>\n",
       "      <td>899.000000</td>\n",
       "      <td>599.000000</td>\n",
       "      <td>4.300000</td>\n",
       "    </tr>\n",
       "    <tr>\n",
       "      <th>CableConnectionProtectors</th>\n",
       "      <td>999.000000</td>\n",
       "      <td>99.000000</td>\n",
       "      <td>4.033333</td>\n",
       "    </tr>\n",
       "    <tr>\n",
       "      <th>Caddies</th>\n",
       "      <td>799.000000</td>\n",
       "      <td>199.000000</td>\n",
       "      <td>4.100000</td>\n",
       "    </tr>\n",
       "    <tr>\n",
       "      <th>CameraPrivacyCovers</th>\n",
       "      <td>199.000000</td>\n",
       "      <td>122.333333</td>\n",
       "      <td>4.300000</td>\n",
       "    </tr>\n",
       "    <tr>\n",
       "      <th>...</th>\n",
       "      <th>...</th>\n",
       "      <td>...</td>\n",
       "      <td>...</td>\n",
       "      <td>...</td>\n",
       "    </tr>\n",
       "    <tr>\n",
       "      <th rowspan=\"4\" valign=\"top\">OfficeProducts</th>\n",
       "      <th>RetractableBallpointPens</th>\n",
       "      <td>405.000000</td>\n",
       "      <td>329.000000</td>\n",
       "      <td>4.300000</td>\n",
       "    </tr>\n",
       "    <tr>\n",
       "      <th>Scientific</th>\n",
       "      <td>922.500000</td>\n",
       "      <td>908.500000</td>\n",
       "      <td>4.450000</td>\n",
       "    </tr>\n",
       "    <tr>\n",
       "      <th>StickBallpointPens</th>\n",
       "      <td>296.666667</td>\n",
       "      <td>244.333333</td>\n",
       "      <td>4.133333</td>\n",
       "    </tr>\n",
       "    <tr>\n",
       "      <th>WireboundNotebooks</th>\n",
       "      <td>150.000000</td>\n",
       "      <td>141.250000</td>\n",
       "      <td>4.400000</td>\n",
       "    </tr>\n",
       "    <tr>\n",
       "      <th>Toys&amp;Games</th>\n",
       "      <th>ColouringPens&amp;Markers</th>\n",
       "      <td>150.000000</td>\n",
       "      <td>150.000000</td>\n",
       "      <td>4.300000</td>\n",
       "    </tr>\n",
       "  </tbody>\n",
       "</table>\n",
       "<p>210 rows × 3 columns</p>\n",
       "</div>"
      ],
      "text/plain": [
       "                                                 actual_price  \\\n",
       "main_category         sub_category                              \n",
       "Car&Motorbike         AirPurifiers&Ionizers       4000.000000   \n",
       "Computers&Accessories BluetoothAdapters            899.000000   \n",
       "                      CableConnectionProtectors    999.000000   \n",
       "                      Caddies                      799.000000   \n",
       "                      CameraPrivacyCovers          199.000000   \n",
       "...                                                       ...   \n",
       "OfficeProducts        RetractableBallpointPens     405.000000   \n",
       "                      Scientific                   922.500000   \n",
       "                      StickBallpointPens           296.666667   \n",
       "                      WireboundNotebooks           150.000000   \n",
       "Toys&Games            ColouringPens&Markers        150.000000   \n",
       "\n",
       "                                                 discounted_price    rating  \n",
       "main_category         sub_category                                           \n",
       "Car&Motorbike         AirPurifiers&Ionizers           2339.000000  3.800000  \n",
       "Computers&Accessories BluetoothAdapters                599.000000  4.300000  \n",
       "                      CableConnectionProtectors         99.000000  4.033333  \n",
       "                      Caddies                          199.000000  4.100000  \n",
       "                      CameraPrivacyCovers              122.333333  4.300000  \n",
       "...                                                           ...       ...  \n",
       "OfficeProducts        RetractableBallpointPens         329.000000  4.300000  \n",
       "                      Scientific                       908.500000  4.450000  \n",
       "                      StickBallpointPens               244.333333  4.133333  \n",
       "                      WireboundNotebooks               141.250000  4.400000  \n",
       "Toys&Games            ColouringPens&Markers            150.000000  4.300000  \n",
       "\n",
       "[210 rows x 3 columns]"
      ]
     },
     "execution_count": 37,
     "metadata": {},
     "output_type": "execute_result"
    }
   ],
   "source": [
    "pivot = pd.pivot_table(clamazon,index = ['main_category','sub_category'])\n",
    "pivot"
   ]
  },
  {
   "cell_type": "markdown",
   "id": "eeff4048",
   "metadata": {},
   "source": [
    "# Machine Learning "
   ]
  },
  {
   "cell_type": "raw",
   "id": "12019dad",
   "metadata": {},
   "source": [
    "Linear Regression"
   ]
  },
  {
   "cell_type": "code",
   "execution_count": 38,
   "id": "72dd4066",
   "metadata": {},
   "outputs": [
    {
     "name": "stdout",
     "output_type": "stream",
     "text": [
      "   discounted_price\n",
      "0             399.0\n",
      "1             199.0\n",
      "2             199.0\n",
      "   rating\n",
      "0     4.2\n",
      "1     4.0\n",
      "2     3.9\n",
      "(1462, 1)\n"
     ]
    }
   ],
   "source": [
    "x = clamazon[['discounted_price']]\n",
    "y = clamazon[['rating']]\n",
    "print(x.head(3))\n",
    "print(y.head(3))\n",
    "print(x.shape)"
   ]
  },
  {
   "cell_type": "code",
   "execution_count": 39,
   "id": "d588ddf8",
   "metadata": {},
   "outputs": [
    {
     "name": "stdout",
     "output_type": "stream",
     "text": [
      "xtrain =  1169\n",
      "xtest =  293\n"
     ]
    }
   ],
   "source": [
    "from sklearn.model_selection import train_test_split\n",
    "xtrain,xtest,ytrain,ytest = train_test_split(x,y,test_size = 0.2)\n",
    "print(\"xtrain = \",xtrain.size)\n",
    "print(\"xtest = \",xtest.size)"
   ]
  },
  {
   "cell_type": "code",
   "execution_count": 40,
   "id": "6a9c9e35",
   "metadata": {},
   "outputs": [
    {
     "name": "stdout",
     "output_type": "stream",
     "text": [
      "      rating\n",
      "777      3.9\n",
      "496      3.9\n",
      "103      4.2\n",
      "1014     4.0\n",
      "835      4.4\n",
      "[[4.09781321]\n",
      " [4.08798508]\n",
      " [4.19991654]\n",
      " [4.28317171]\n",
      " [4.08459984]]\n"
     ]
    }
   ],
   "source": [
    "from sklearn.linear_model import LinearRegression\n",
    "lr = LinearRegression()\n",
    "lr.fit(xtrain,ytrain)\n",
    "ypredict = lr.predict(xtest)\n",
    "print(ytest.head())\n",
    "print(ypredict[0:5])"
   ]
  },
  {
   "cell_type": "code",
   "execution_count": 41,
   "id": "82854318",
   "metadata": {},
   "outputs": [
    {
     "name": "stdout",
     "output_type": "stream",
     "text": [
      "(293, 1)\n",
      "(293, 1)\n",
      "(293, 1)\n"
     ]
    }
   ],
   "source": [
    "print(xtest.shape)\n",
    "print(ytest.shape)\n",
    "print(ypredict.shape)"
   ]
  },
  {
   "cell_type": "code",
   "execution_count": 42,
   "id": "62d64a9a",
   "metadata": {},
   "outputs": [
    {
     "name": "stdout",
     "output_type": "stream",
     "text": [
      "Mean Squared Error in LinearRegression =  0.09151963212251334\n"
     ]
    }
   ],
   "source": [
    "from sklearn.metrics import mean_squared_error\n",
    "mselr = mean_squared_error(ytest,ypredict)\n",
    "print(\"Mean Squared Error in LinearRegression = \",mselr)"
   ]
  },
  {
   "cell_type": "code",
   "execution_count": 43,
   "id": "246e237a",
   "metadata": {},
   "outputs": [
    {
     "data": {
      "text/plain": [
       "0.21145363265905812"
      ]
     },
     "execution_count": 43,
     "metadata": {},
     "output_type": "execute_result"
    }
   ],
   "source": [
    "from sklearn.metrics import mean_absolute_error\n",
    "mean_absolute_error(ytest,ypredict)"
   ]
  },
  {
   "cell_type": "code",
   "execution_count": 44,
   "id": "ed087b7e",
   "metadata": {},
   "outputs": [
    {
     "name": "stdout",
     "output_type": "stream",
     "text": [
      "Mean squared error in decisionTreeRegressor =  0.1231556120862444\n"
     ]
    }
   ],
   "source": [
    "from sklearn.tree import DecisionTreeRegressor\n",
    "modelD = DecisionTreeRegressor()\n",
    "modelD.fit(xtrain,ytrain)\n",
    "ypredict1 = modelD.predict(xtest)\n",
    "from sklearn.metrics import mean_squared_error\n",
    "msedt = mean_squared_error(ytest,ypredict1)\n",
    "print(\"Mean squared error in decisionTreeRegressor = \",msedt)"
   ]
  },
  {
   "cell_type": "code",
   "execution_count": 45,
   "id": "47ed8379",
   "metadata": {},
   "outputs": [
    {
     "name": "stdout",
     "output_type": "stream",
     "text": [
      "Mean squared Error in RandomForestregressor =  0.10420815028680513\n"
     ]
    },
    {
     "name": "stderr",
     "output_type": "stream",
     "text": [
      "C:\\Users\\Geetanshu Dev\\AppData\\Local\\Temp\\ipykernel_16316\\382050822.py:3: DataConversionWarning: A column-vector y was passed when a 1d array was expected. Please change the shape of y to (n_samples,), for example using ravel().\n",
      "  modelR.fit(xtrain,ytrain)\n"
     ]
    }
   ],
   "source": [
    "from sklearn.ensemble import RandomForestRegressor\n",
    "modelR = RandomForestRegressor()\n",
    "modelR.fit(xtrain,ytrain)\n",
    "ypredict2 = modelR.predict(xtest)\n",
    "from sklearn.metrics import mean_squared_error\n",
    "mseR = mean_squared_error(ytest,ypredict2)\n",
    "print(\"Mean squared Error in RandomForestregressor = \",mseR)"
   ]
  },
  {
   "cell_type": "code",
   "execution_count": 46,
   "id": "f359212f",
   "metadata": {},
   "outputs": [
    {
     "data": {
      "text/html": [
       "<div>\n",
       "<style scoped>\n",
       "    .dataframe tbody tr th:only-of-type {\n",
       "        vertical-align: middle;\n",
       "    }\n",
       "\n",
       "    .dataframe tbody tr th {\n",
       "        vertical-align: top;\n",
       "    }\n",
       "\n",
       "    .dataframe thead th {\n",
       "        text-align: right;\n",
       "    }\n",
       "</style>\n",
       "<table border=\"1\" class=\"dataframe\">\n",
       "  <thead>\n",
       "    <tr style=\"text-align: right;\">\n",
       "      <th></th>\n",
       "      <th>Model</th>\n",
       "      <th>MeanSquaredError</th>\n",
       "    </tr>\n",
       "  </thead>\n",
       "  <tbody>\n",
       "    <tr>\n",
       "      <th>0</th>\n",
       "      <td>LinearRegression</td>\n",
       "      <td>0.091520</td>\n",
       "    </tr>\n",
       "    <tr>\n",
       "      <th>2</th>\n",
       "      <td>RandomForestRegression</td>\n",
       "      <td>0.104208</td>\n",
       "    </tr>\n",
       "    <tr>\n",
       "      <th>1</th>\n",
       "      <td>DecisionTreeRegression</td>\n",
       "      <td>0.123156</td>\n",
       "    </tr>\n",
       "  </tbody>\n",
       "</table>\n",
       "</div>"
      ],
      "text/plain": [
       "                    Model  MeanSquaredError\n",
       "0        LinearRegression          0.091520\n",
       "2  RandomForestRegression          0.104208\n",
       "1  DecisionTreeRegression          0.123156"
      ]
     },
     "execution_count": 46,
     "metadata": {},
     "output_type": "execute_result"
    }
   ],
   "source": [
    "datawe = pd.DataFrame({\n",
    "    \"Model\":[\"LinearRegression\",\"DecisionTreeRegression\",\"RandomForestRegression\"],\n",
    "    \"MeanSquaredError\":[mselr,msedt,mseR]\n",
    "})\n",
    "datawe = datawe.sort_values(by = \"MeanSquaredError\")\n",
    "datawe"
   ]
  },
  {
   "cell_type": "markdown",
   "id": "51bf9468",
   "metadata": {},
   "source": [
    "# Product recommender"
   ]
  },
  {
   "cell_type": "code",
   "execution_count": 47,
   "id": "5b00482c",
   "metadata": {},
   "outputs": [
    {
     "data": {
      "text/plain": [
       "dtype('float64')"
      ]
     },
     "execution_count": 47,
     "metadata": {},
     "output_type": "execute_result"
    }
   ],
   "source": [
    "clamazon['rating_count'] = clamazon['rating_count'].str.replace(\",\",'')\n",
    "clamazon['rating_count'] = clamazon['rating_count'].astype('float64')\n",
    "clamazon['rating_count'].dtype\n"
   ]
  },
  {
   "cell_type": "code",
   "execution_count": 48,
   "id": "fd7fd498",
   "metadata": {},
   "outputs": [
    {
     "name": "stdout",
     "output_type": "stream",
     "text": [
      "4.096716826265404\n"
     ]
    }
   ],
   "source": [
    "meanrate = clamazon['rating'].mean()\n",
    "print(meanrate)"
   ]
  },
  {
   "cell_type": "code",
   "execution_count": 49,
   "id": "26d29943",
   "metadata": {},
   "outputs": [
    {
     "name": "stdout",
     "output_type": "stream",
     "text": [
      "39639.50000000008\n"
     ]
    }
   ],
   "source": [
    "minimumrate = clamazon['rating_count'].quantile(0.90)\n",
    "print(minimumrate)\n"
   ]
  },
  {
   "cell_type": "code",
   "execution_count": 50,
   "id": "cf77548f",
   "metadata": {},
   "outputs": [
    {
     "data": {
      "text/plain": [
       "Index(['product_id', 'product_name', 'category', 'discounted_price',\n",
       "       'actual_price', 'discount_percentage', 'rating', 'rating_count',\n",
       "       'about_product', 'user_id', 'user_name', 'review_id', 'review_title',\n",
       "       'review_content', 'img_link', 'product_link', 'main_category',\n",
       "       'sub_category'],\n",
       "      dtype='object')"
      ]
     },
     "execution_count": 50,
     "metadata": {},
     "output_type": "execute_result"
    }
   ],
   "source": [
    "qamazon = clamazon.copy().loc[clamazon['rating_count']>=minimumrate]\n",
    "qamazon.shape\n",
    "qamazon.columns"
   ]
  },
  {
   "cell_type": "code",
   "execution_count": 52,
   "id": "643eca5c",
   "metadata": {},
   "outputs": [
    {
     "name": "stdout",
     "output_type": "stream",
     "text": [
      "1       4.045841\n",
      "3       4.169448\n",
      "8       4.181334\n",
      "9       4.045841\n",
      "11      4.169448\n",
      "          ...   \n",
      "1064    4.148413\n",
      "1072    4.148661\n",
      "1077    4.152552\n",
      "1130    3.994279\n",
      "1145    4.501658\n",
      "Name: score, Length: 147, dtype: float64\n"
     ]
    }
   ],
   "source": [
    "def weightrating(x,minimumvote = minimumrate,meanrate = meanrate):\n",
    "    ratec = x['rating_count']\n",
    "    rate = x['rating']\n",
    "    return (ratec/(ratec+minimumrate)*rate)+(minimumrate/(minimumrate+ratec)*meanrate)\n",
    "qamazon['score'] = qamazon.apply(weightrating,axis = 1)\n",
    "print(qamazon['score'])"
   ]
  },
  {
   "cell_type": "code",
   "execution_count": 53,
   "id": "2752ce56",
   "metadata": {},
   "outputs": [
    {
     "data": {
      "text/html": [
       "<div>\n",
       "<style scoped>\n",
       "    .dataframe tbody tr th:only-of-type {\n",
       "        vertical-align: middle;\n",
       "    }\n",
       "\n",
       "    .dataframe tbody tr th {\n",
       "        vertical-align: top;\n",
       "    }\n",
       "\n",
       "    .dataframe thead th {\n",
       "        text-align: right;\n",
       "    }\n",
       "</style>\n",
       "<table border=\"1\" class=\"dataframe\">\n",
       "  <thead>\n",
       "    <tr style=\"text-align: right;\">\n",
       "      <th></th>\n",
       "      <th>main_category</th>\n",
       "      <th>sub_category</th>\n",
       "      <th>rating</th>\n",
       "      <th>rating_count</th>\n",
       "      <th>score</th>\n",
       "    </tr>\n",
       "  </thead>\n",
       "  <tbody>\n",
       "    <tr>\n",
       "      <th>1145</th>\n",
       "      <td>Home&amp;Kitchen</td>\n",
       "      <td>InstantWaterHeaters</td>\n",
       "      <td>4.8</td>\n",
       "      <td>53803.0</td>\n",
       "      <td>4.501658</td>\n",
       "    </tr>\n",
       "    <tr>\n",
       "      <th>864</th>\n",
       "      <td>Electronics</td>\n",
       "      <td>MicroSD</td>\n",
       "      <td>4.5</td>\n",
       "      <td>205052.0</td>\n",
       "      <td>4.434669</td>\n",
       "    </tr>\n",
       "    <tr>\n",
       "      <th>40</th>\n",
       "      <td>Computers&amp;Accessories</td>\n",
       "      <td>USBCables</td>\n",
       "      <td>4.5</td>\n",
       "      <td>107687.0</td>\n",
       "      <td>4.391493</td>\n",
       "    </tr>\n",
       "    <tr>\n",
       "      <th>852</th>\n",
       "      <td>Computers&amp;Accessories</td>\n",
       "      <td>USBCables</td>\n",
       "      <td>4.5</td>\n",
       "      <td>107686.0</td>\n",
       "      <td>4.391492</td>\n",
       "    </tr>\n",
       "    <tr>\n",
       "      <th>810</th>\n",
       "      <td>Computers&amp;Accessories</td>\n",
       "      <td>InternalSolidStateDrives</td>\n",
       "      <td>4.5</td>\n",
       "      <td>92925.0</td>\n",
       "      <td>4.379410</td>\n",
       "    </tr>\n",
       "    <tr>\n",
       "      <th>65</th>\n",
       "      <td>Electronics</td>\n",
       "      <td>HDMICables</td>\n",
       "      <td>4.4</td>\n",
       "      <td>426973.0</td>\n",
       "      <td>4.374236</td>\n",
       "    </tr>\n",
       "    <tr>\n",
       "      <th>47</th>\n",
       "      <td>Electronics</td>\n",
       "      <td>HDMICables</td>\n",
       "      <td>4.4</td>\n",
       "      <td>426973.0</td>\n",
       "      <td>4.374236</td>\n",
       "    </tr>\n",
       "    <tr>\n",
       "      <th>12</th>\n",
       "      <td>Electronics</td>\n",
       "      <td>HDMICables</td>\n",
       "      <td>4.4</td>\n",
       "      <td>426973.0</td>\n",
       "      <td>4.374236</td>\n",
       "    </tr>\n",
       "    <tr>\n",
       "      <th>684</th>\n",
       "      <td>Electronics</td>\n",
       "      <td>HDMICables</td>\n",
       "      <td>4.4</td>\n",
       "      <td>426972.0</td>\n",
       "      <td>4.374236</td>\n",
       "    </tr>\n",
       "    <tr>\n",
       "      <th>212</th>\n",
       "      <td>Computers&amp;Accessories</td>\n",
       "      <td>USBCables</td>\n",
       "      <td>4.5</td>\n",
       "      <td>74977.0</td>\n",
       "      <td>4.360527</td>\n",
       "    </tr>\n",
       "    <tr>\n",
       "      <th>30</th>\n",
       "      <td>Computers&amp;Accessories</td>\n",
       "      <td>USBCables</td>\n",
       "      <td>4.5</td>\n",
       "      <td>74976.0</td>\n",
       "      <td>4.360525</td>\n",
       "    </tr>\n",
       "    <tr>\n",
       "      <th>802</th>\n",
       "      <td>Computers&amp;Accessories</td>\n",
       "      <td>USBCables</td>\n",
       "      <td>4.5</td>\n",
       "      <td>74976.0</td>\n",
       "      <td>4.360525</td>\n",
       "    </tr>\n",
       "    <tr>\n",
       "      <th>734</th>\n",
       "      <td>Computers&amp;Accessories</td>\n",
       "      <td>Mice</td>\n",
       "      <td>4.5</td>\n",
       "      <td>54405.0</td>\n",
       "      <td>4.330017</td>\n",
       "    </tr>\n",
       "    <tr>\n",
       "      <th>625</th>\n",
       "      <td>Computers&amp;Accessories</td>\n",
       "      <td>ExternalHardDisks</td>\n",
       "      <td>4.5</td>\n",
       "      <td>50810.0</td>\n",
       "      <td>4.323261</td>\n",
       "    </tr>\n",
       "    <tr>\n",
       "      <th>815</th>\n",
       "      <td>Computers&amp;Accessories</td>\n",
       "      <td>ExternalHardDisks</td>\n",
       "      <td>4.5</td>\n",
       "      <td>50273.0</td>\n",
       "      <td>4.322206</td>\n",
       "    </tr>\n",
       "    <tr>\n",
       "      <th>793</th>\n",
       "      <td>Computers&amp;Accessories</td>\n",
       "      <td>ExternalHardDisks</td>\n",
       "      <td>4.4</td>\n",
       "      <td>73005.0</td>\n",
       "      <td>4.293275</td>\n",
       "    </tr>\n",
       "    <tr>\n",
       "      <th>788</th>\n",
       "      <td>Electronics</td>\n",
       "      <td>SecureDigitalCards</td>\n",
       "      <td>4.4</td>\n",
       "      <td>69585.0</td>\n",
       "      <td>4.289933</td>\n",
       "    </tr>\n",
       "    <tr>\n",
       "      <th>129</th>\n",
       "      <td>Electronics</td>\n",
       "      <td>RCACables</td>\n",
       "      <td>4.4</td>\n",
       "      <td>69538.0</td>\n",
       "      <td>4.289886</td>\n",
       "    </tr>\n",
       "    <tr>\n",
       "      <th>593</th>\n",
       "      <td>Electronics</td>\n",
       "      <td>MicroSD</td>\n",
       "      <td>4.4</td>\n",
       "      <td>67262.0</td>\n",
       "      <td>4.287541</td>\n",
       "    </tr>\n",
       "    <tr>\n",
       "      <th>507</th>\n",
       "      <td>Electronics</td>\n",
       "      <td>MicroSD</td>\n",
       "      <td>4.4</td>\n",
       "      <td>67260.0</td>\n",
       "      <td>4.287539</td>\n",
       "    </tr>\n",
       "  </tbody>\n",
       "</table>\n",
       "</div>"
      ],
      "text/plain": [
       "              main_category              sub_category  rating  rating_count  \\\n",
       "1145           Home&Kitchen       InstantWaterHeaters     4.8       53803.0   \n",
       "864             Electronics                   MicroSD     4.5      205052.0   \n",
       "40    Computers&Accessories                 USBCables     4.5      107687.0   \n",
       "852   Computers&Accessories                 USBCables     4.5      107686.0   \n",
       "810   Computers&Accessories  InternalSolidStateDrives     4.5       92925.0   \n",
       "65              Electronics                HDMICables     4.4      426973.0   \n",
       "47              Electronics                HDMICables     4.4      426973.0   \n",
       "12              Electronics                HDMICables     4.4      426973.0   \n",
       "684             Electronics                HDMICables     4.4      426972.0   \n",
       "212   Computers&Accessories                 USBCables     4.5       74977.0   \n",
       "30    Computers&Accessories                 USBCables     4.5       74976.0   \n",
       "802   Computers&Accessories                 USBCables     4.5       74976.0   \n",
       "734   Computers&Accessories                      Mice     4.5       54405.0   \n",
       "625   Computers&Accessories         ExternalHardDisks     4.5       50810.0   \n",
       "815   Computers&Accessories         ExternalHardDisks     4.5       50273.0   \n",
       "793   Computers&Accessories         ExternalHardDisks     4.4       73005.0   \n",
       "788             Electronics        SecureDigitalCards     4.4       69585.0   \n",
       "129             Electronics                 RCACables     4.4       69538.0   \n",
       "593             Electronics                   MicroSD     4.4       67262.0   \n",
       "507             Electronics                   MicroSD     4.4       67260.0   \n",
       "\n",
       "         score  \n",
       "1145  4.501658  \n",
       "864   4.434669  \n",
       "40    4.391493  \n",
       "852   4.391492  \n",
       "810   4.379410  \n",
       "65    4.374236  \n",
       "47    4.374236  \n",
       "12    4.374236  \n",
       "684   4.374236  \n",
       "212   4.360527  \n",
       "30    4.360525  \n",
       "802   4.360525  \n",
       "734   4.330017  \n",
       "625   4.323261  \n",
       "815   4.322206  \n",
       "793   4.293275  \n",
       "788   4.289933  \n",
       "129   4.289886  \n",
       "593   4.287541  \n",
       "507   4.287539  "
      ]
     },
     "execution_count": 53,
     "metadata": {},
     "output_type": "execute_result"
    }
   ],
   "source": [
    "qamazon = qamazon.sort_values('score',ascending=False)\n",
    "#pd.set_option('precision',2)\n",
    "qamazon[['main_category','sub_category','rating','rating_count','score']].head(20)"
   ]
  },
  {
   "cell_type": "markdown",
   "id": "ea1355a3",
   "metadata": {},
   "source": [
    "# Recommend system 2"
   ]
  },
  {
   "cell_type": "code",
   "execution_count": 60,
   "id": "55f70744",
   "metadata": {},
   "outputs": [
    {
     "data": {
      "text/plain": [
       "Index(['product_id', 'product_name', 'category', 'discounted_price',\n",
       "       'actual_price', 'discount_percentage', 'rating', 'rating_count',\n",
       "       'about_product', 'user_id', 'user_name', 'review_id', 'review_title',\n",
       "       'review_content', 'img_link', 'product_link', 'main_category',\n",
       "       'sub_category', 'score'],\n",
       "      dtype='object')"
      ]
     },
     "execution_count": 60,
     "metadata": {},
     "output_type": "execute_result"
    }
   ],
   "source": [
    "qamazon.columns"
   ]
  },
  {
   "cell_type": "code",
   "execution_count": 61,
   "id": "1ffc3dda",
   "metadata": {},
   "outputs": [
    {
     "name": "stdout",
     "output_type": "stream",
     "text": [
      "864    4.336095\n",
      "65     4.325970\n",
      "47     4.325970\n",
      "12     4.325970\n",
      "684    4.325970\n",
      "         ...   \n",
      "585    4.057093\n",
      "656    4.040530\n",
      "716    4.022621\n",
      "591    3.991006\n",
      "415    3.967315\n",
      "Name: score, Length: 147, dtype: float64\n"
     ]
    }
   ],
   "source": [
    "a = qamazon['rating_count']\n",
    "b = qamazon['rating']\n",
    "b1 = qamazon['rating'].mean()\n",
    "a1 = qamazon['rating_count'].quantile(0.90)\n",
    "qamazon['score'] = ((a*b)+(a1*b1))/(a+a1)\n",
    "print(qamazon['score'])"
   ]
  },
  {
   "cell_type": "code",
   "execution_count": 62,
   "id": "373fac81",
   "metadata": {},
   "outputs": [
    {
     "data": {
      "text/html": [
       "<div>\n",
       "<style scoped>\n",
       "    .dataframe tbody tr th:only-of-type {\n",
       "        vertical-align: middle;\n",
       "    }\n",
       "\n",
       "    .dataframe tbody tr th {\n",
       "        vertical-align: top;\n",
       "    }\n",
       "\n",
       "    .dataframe thead th {\n",
       "        text-align: right;\n",
       "    }\n",
       "</style>\n",
       "<table border=\"1\" class=\"dataframe\">\n",
       "  <thead>\n",
       "    <tr style=\"text-align: right;\">\n",
       "      <th></th>\n",
       "      <th>main_category</th>\n",
       "      <th>sub_category</th>\n",
       "      <th>rating</th>\n",
       "      <th>rating_count</th>\n",
       "      <th>score</th>\n",
       "    </tr>\n",
       "  </thead>\n",
       "  <tbody>\n",
       "    <tr>\n",
       "      <th>864</th>\n",
       "      <td>Electronics</td>\n",
       "      <td>MicroSD</td>\n",
       "      <td>4.5</td>\n",
       "      <td>205052.0</td>\n",
       "      <td>4.336095</td>\n",
       "    </tr>\n",
       "    <tr>\n",
       "      <th>65</th>\n",
       "      <td>Electronics</td>\n",
       "      <td>HDMICables</td>\n",
       "      <td>4.4</td>\n",
       "      <td>426973.0</td>\n",
       "      <td>4.325970</td>\n",
       "    </tr>\n",
       "    <tr>\n",
       "      <th>47</th>\n",
       "      <td>Electronics</td>\n",
       "      <td>HDMICables</td>\n",
       "      <td>4.4</td>\n",
       "      <td>426973.0</td>\n",
       "      <td>4.325970</td>\n",
       "    </tr>\n",
       "    <tr>\n",
       "      <th>12</th>\n",
       "      <td>Electronics</td>\n",
       "      <td>HDMICables</td>\n",
       "      <td>4.4</td>\n",
       "      <td>426973.0</td>\n",
       "      <td>4.325970</td>\n",
       "    </tr>\n",
       "    <tr>\n",
       "      <th>684</th>\n",
       "      <td>Electronics</td>\n",
       "      <td>HDMICables</td>\n",
       "      <td>4.4</td>\n",
       "      <td>426972.0</td>\n",
       "      <td>4.325970</td>\n",
       "    </tr>\n",
       "    <tr>\n",
       "      <th>1145</th>\n",
       "      <td>Home&amp;Kitchen</td>\n",
       "      <td>InstantWaterHeaters</td>\n",
       "      <td>4.8</td>\n",
       "      <td>53803.0</td>\n",
       "      <td>4.301686</td>\n",
       "    </tr>\n",
       "    <tr>\n",
       "      <th>40</th>\n",
       "      <td>Computers&amp;Accessories</td>\n",
       "      <td>USBCables</td>\n",
       "      <td>4.5</td>\n",
       "      <td>107687.0</td>\n",
       "      <td>4.283816</td>\n",
       "    </tr>\n",
       "    <tr>\n",
       "      <th>852</th>\n",
       "      <td>Computers&amp;Accessories</td>\n",
       "      <td>USBCables</td>\n",
       "      <td>4.5</td>\n",
       "      <td>107686.0</td>\n",
       "      <td>4.283815</td>\n",
       "    </tr>\n",
       "    <tr>\n",
       "      <th>810</th>\n",
       "      <td>Computers&amp;Accessories</td>\n",
       "      <td>InternalSolidStateDrives</td>\n",
       "      <td>4.5</td>\n",
       "      <td>92925.0</td>\n",
       "      <td>4.272831</td>\n",
       "    </tr>\n",
       "    <tr>\n",
       "      <th>212</th>\n",
       "      <td>Computers&amp;Accessories</td>\n",
       "      <td>USBCables</td>\n",
       "      <td>4.5</td>\n",
       "      <td>74977.0</td>\n",
       "      <td>4.257871</td>\n",
       "    </tr>\n",
       "    <tr>\n",
       "      <th>802</th>\n",
       "      <td>Computers&amp;Accessories</td>\n",
       "      <td>USBCables</td>\n",
       "      <td>4.5</td>\n",
       "      <td>74976.0</td>\n",
       "      <td>4.257870</td>\n",
       "    </tr>\n",
       "    <tr>\n",
       "      <th>30</th>\n",
       "      <td>Computers&amp;Accessories</td>\n",
       "      <td>USBCables</td>\n",
       "      <td>4.5</td>\n",
       "      <td>74976.0</td>\n",
       "      <td>4.257870</td>\n",
       "    </tr>\n",
       "    <tr>\n",
       "      <th>588</th>\n",
       "      <td>Computers&amp;Accessories</td>\n",
       "      <td>PenDrives</td>\n",
       "      <td>4.3</td>\n",
       "      <td>253105.0</td>\n",
       "      <td>4.241249</td>\n",
       "    </tr>\n",
       "    <tr>\n",
       "      <th>734</th>\n",
       "      <td>Computers&amp;Accessories</td>\n",
       "      <td>Mice</td>\n",
       "      <td>4.5</td>\n",
       "      <td>54405.0</td>\n",
       "      <td>4.238103</td>\n",
       "    </tr>\n",
       "    <tr>\n",
       "      <th>625</th>\n",
       "      <td>Computers&amp;Accessories</td>\n",
       "      <td>ExternalHardDisks</td>\n",
       "      <td>4.5</td>\n",
       "      <td>50810.0</td>\n",
       "      <td>4.234313</td>\n",
       "    </tr>\n",
       "    <tr>\n",
       "      <th>815</th>\n",
       "      <td>Computers&amp;Accessories</td>\n",
       "      <td>ExternalHardDisks</td>\n",
       "      <td>4.5</td>\n",
       "      <td>50273.0</td>\n",
       "      <td>4.233737</td>\n",
       "    </tr>\n",
       "    <tr>\n",
       "      <th>718</th>\n",
       "      <td>Computers&amp;Accessories</td>\n",
       "      <td>PenDrives</td>\n",
       "      <td>4.3</td>\n",
       "      <td>189104.0</td>\n",
       "      <td>4.231525</td>\n",
       "    </tr>\n",
       "    <tr>\n",
       "      <th>356</th>\n",
       "      <td>Electronics</td>\n",
       "      <td>PowerBanks</td>\n",
       "      <td>4.3</td>\n",
       "      <td>178912.0</td>\n",
       "      <td>4.229672</td>\n",
       "    </tr>\n",
       "    <tr>\n",
       "      <th>337</th>\n",
       "      <td>Electronics</td>\n",
       "      <td>PowerBanks</td>\n",
       "      <td>4.3</td>\n",
       "      <td>178912.0</td>\n",
       "      <td>4.229672</td>\n",
       "    </tr>\n",
       "    <tr>\n",
       "      <th>440</th>\n",
       "      <td>Electronics</td>\n",
       "      <td>PowerBanks</td>\n",
       "      <td>4.3</td>\n",
       "      <td>178912.0</td>\n",
       "      <td>4.229672</td>\n",
       "    </tr>\n",
       "  </tbody>\n",
       "</table>\n",
       "</div>"
      ],
      "text/plain": [
       "              main_category              sub_category  rating  rating_count  \\\n",
       "864             Electronics                   MicroSD     4.5      205052.0   \n",
       "65              Electronics                HDMICables     4.4      426973.0   \n",
       "47              Electronics                HDMICables     4.4      426973.0   \n",
       "12              Electronics                HDMICables     4.4      426973.0   \n",
       "684             Electronics                HDMICables     4.4      426972.0   \n",
       "1145           Home&Kitchen       InstantWaterHeaters     4.8       53803.0   \n",
       "40    Computers&Accessories                 USBCables     4.5      107687.0   \n",
       "852   Computers&Accessories                 USBCables     4.5      107686.0   \n",
       "810   Computers&Accessories  InternalSolidStateDrives     4.5       92925.0   \n",
       "212   Computers&Accessories                 USBCables     4.5       74977.0   \n",
       "802   Computers&Accessories                 USBCables     4.5       74976.0   \n",
       "30    Computers&Accessories                 USBCables     4.5       74976.0   \n",
       "588   Computers&Accessories                 PenDrives     4.3      253105.0   \n",
       "734   Computers&Accessories                      Mice     4.5       54405.0   \n",
       "625   Computers&Accessories         ExternalHardDisks     4.5       50810.0   \n",
       "815   Computers&Accessories         ExternalHardDisks     4.5       50273.0   \n",
       "718   Computers&Accessories                 PenDrives     4.3      189104.0   \n",
       "356             Electronics                PowerBanks     4.3      178912.0   \n",
       "337             Electronics                PowerBanks     4.3      178912.0   \n",
       "440             Electronics                PowerBanks     4.3      178912.0   \n",
       "\n",
       "         score  \n",
       "864   4.336095  \n",
       "65    4.325970  \n",
       "47    4.325970  \n",
       "12    4.325970  \n",
       "684   4.325970  \n",
       "1145  4.301686  \n",
       "40    4.283816  \n",
       "852   4.283815  \n",
       "810   4.272831  \n",
       "212   4.257871  \n",
       "802   4.257870  \n",
       "30    4.257870  \n",
       "588   4.241249  \n",
       "734   4.238103  \n",
       "625   4.234313  \n",
       "815   4.233737  \n",
       "718   4.231525  \n",
       "356   4.229672  \n",
       "337   4.229672  \n",
       "440   4.229672  "
      ]
     },
     "execution_count": 62,
     "metadata": {},
     "output_type": "execute_result"
    }
   ],
   "source": [
    "qamazon = qamazon.sort_values('score',ascending=False)\n",
    "qamazon[['main_category','sub_category','rating','rating_count','score']].head(20)"
   ]
  },
  {
   "cell_type": "code",
   "execution_count": null,
   "id": "a1f26b70",
   "metadata": {},
   "outputs": [],
   "source": []
  }
 ],
 "metadata": {
  "kernelspec": {
   "display_name": "Python 3 (ipykernel)",
   "language": "python",
   "name": "python3"
  },
  "language_info": {
   "codemirror_mode": {
    "name": "ipython",
    "version": 3
   },
   "file_extension": ".py",
   "mimetype": "text/x-python",
   "name": "python",
   "nbconvert_exporter": "python",
   "pygments_lexer": "ipython3",
   "version": "3.9.12"
  }
 },
 "nbformat": 4,
 "nbformat_minor": 5
}
